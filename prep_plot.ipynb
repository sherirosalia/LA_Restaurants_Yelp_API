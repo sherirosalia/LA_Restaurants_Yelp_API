{
 "cells": [
  {
   "cell_type": "code",
   "execution_count": 1,
   "metadata": {},
   "outputs": [],
   "source": [
    "import pandas as pd\n",
    "import numpy as np"
   ]
  },
  {
   "cell_type": "code",
   "execution_count": 2,
   "metadata": {},
   "outputs": [],
   "source": [
    "df=pd.read_csv('la_rest_types.csv', index_col=False)"
   ]
  },
  {
   "cell_type": "code",
   "execution_count": 3,
   "metadata": {},
   "outputs": [
    {
     "data": {
      "text/html": [
       "<div>\n",
       "<style scoped>\n",
       "    .dataframe tbody tr th:only-of-type {\n",
       "        vertical-align: middle;\n",
       "    }\n",
       "\n",
       "    .dataframe tbody tr th {\n",
       "        vertical-align: top;\n",
       "    }\n",
       "\n",
       "    .dataframe thead th {\n",
       "        text-align: right;\n",
       "    }\n",
       "</style>\n",
       "<table border=\"1\" class=\"dataframe\">\n",
       "  <thead>\n",
       "    <tr style=\"text-align: right;\">\n",
       "      <th></th>\n",
       "      <th>id</th>\n",
       "      <th>name</th>\n",
       "      <th>address</th>\n",
       "      <th>category_title</th>\n",
       "      <th>rating</th>\n",
       "      <th>review_count</th>\n",
       "      <th>lat</th>\n",
       "      <th>lon</th>\n",
       "    </tr>\n",
       "  </thead>\n",
       "  <tbody>\n",
       "    <tr>\n",
       "      <th>2231</th>\n",
       "      <td>17gnBnNl2iVpRd1yDgwidw</td>\n",
       "      <td>Nice Time Cafe</td>\n",
       "      <td>500 N Atlantic Blvd  Monterey Park, CA 91754</td>\n",
       "      <td>Chinese</td>\n",
       "      <td>3.0</td>\n",
       "      <td>236</td>\n",
       "      <td>34.068168</td>\n",
       "      <td>-118.133521</td>\n",
       "    </tr>\n",
       "  </tbody>\n",
       "</table>\n",
       "</div>"
      ],
      "text/plain": [
       "                          id            name  \\\n",
       "2231  17gnBnNl2iVpRd1yDgwidw  Nice Time Cafe   \n",
       "\n",
       "                                           address category_title  rating  \\\n",
       "2231  500 N Atlantic Blvd  Monterey Park, CA 91754        Chinese     3.0   \n",
       "\n",
       "      review_count        lat         lon  \n",
       "2231           236  34.068168 -118.133521  "
      ]
     },
     "execution_count": 3,
     "metadata": {},
     "output_type": "execute_result"
    }
   ],
   "source": [
    "df.sample()"
   ]
  },
  {
   "cell_type": "code",
   "execution_count": 4,
   "metadata": {},
   "outputs": [],
   "source": [
    "# df.isnull()"
   ]
  },
  {
   "cell_type": "code",
   "execution_count": 5,
   "metadata": {},
   "outputs": [],
   "source": [
    "df['category_title'].replace(' ', np.nan, inplace=True)"
   ]
  },
  {
   "cell_type": "code",
   "execution_count": 6,
   "metadata": {},
   "outputs": [],
   "source": [
    "# df.isnull()"
   ]
  },
  {
   "cell_type": "code",
   "execution_count": 7,
   "metadata": {},
   "outputs": [],
   "source": [
    "df.dropna(inplace=True)"
   ]
  },
  {
   "cell_type": "code",
   "execution_count": 8,
   "metadata": {},
   "outputs": [
    {
     "data": {
      "text/html": [
       "<div>\n",
       "<style scoped>\n",
       "    .dataframe tbody tr th:only-of-type {\n",
       "        vertical-align: middle;\n",
       "    }\n",
       "\n",
       "    .dataframe tbody tr th {\n",
       "        vertical-align: top;\n",
       "    }\n",
       "\n",
       "    .dataframe thead th {\n",
       "        text-align: right;\n",
       "    }\n",
       "</style>\n",
       "<table border=\"1\" class=\"dataframe\">\n",
       "  <thead>\n",
       "    <tr style=\"text-align: right;\">\n",
       "      <th></th>\n",
       "      <th>id</th>\n",
       "      <th>name</th>\n",
       "      <th>address</th>\n",
       "      <th>category_title</th>\n",
       "      <th>rating</th>\n",
       "      <th>review_count</th>\n",
       "      <th>lat</th>\n",
       "      <th>lon</th>\n",
       "    </tr>\n",
       "  </thead>\n",
       "  <tbody>\n",
       "    <tr>\n",
       "      <th>40997</th>\n",
       "      <td>PoRoOyDYFKAAHPK4yFt9oA</td>\n",
       "      <td>Ham 'n Scram</td>\n",
       "      <td>5871-A Westminster Blvd  Westminster, CA 92683</td>\n",
       "      <td>American (Traditional)</td>\n",
       "      <td>4.5</td>\n",
       "      <td>1676</td>\n",
       "      <td>33.75926</td>\n",
       "      <td>-118.02642</td>\n",
       "    </tr>\n",
       "  </tbody>\n",
       "</table>\n",
       "</div>"
      ],
      "text/plain": [
       "                           id          name  \\\n",
       "40997  PoRoOyDYFKAAHPK4yFt9oA  Ham 'n Scram   \n",
       "\n",
       "                                              address  \\\n",
       "40997  5871-A Westminster Blvd  Westminster, CA 92683   \n",
       "\n",
       "                category_title  rating  review_count       lat        lon  \n",
       "40997   American (Traditional)     4.5          1676  33.75926 -118.02642  "
      ]
     },
     "execution_count": 8,
     "metadata": {},
     "output_type": "execute_result"
    }
   ],
   "source": [
    "df.reset_index(drop=True)\n",
    "df.sample()"
   ]
  },
  {
   "cell_type": "code",
   "execution_count": 9,
   "metadata": {},
   "outputs": [],
   "source": [
    "# df.isnull()"
   ]
  },
  {
   "cell_type": "code",
   "execution_count": 10,
   "metadata": {},
   "outputs": [
    {
     "data": {
      "text/plain": [
       "4.0    13316\n",
       "4.5     7989\n",
       "3.5     7930\n",
       "3.0     4063\n",
       "5.0     2543\n",
       "2.5     2365\n",
       "2.0     2019\n",
       "1.5      843\n",
       "1.0      272\n",
       "Name: rating, dtype: int64"
      ]
     },
     "execution_count": 10,
     "metadata": {},
     "output_type": "execute_result"
    }
   ],
   "source": [
    "df['rating'].value_counts()"
   ]
  },
  {
   "cell_type": "code",
   "execution_count": 11,
   "metadata": {},
   "outputs": [
    {
     "data": {
      "text/plain": [
       "(3.667, 5.0]      23848\n",
       "(2.333, 3.667]    14358\n",
       "(0.995, 2.333]     3134\n",
       "Name: rating, dtype: int64"
      ]
     },
     "execution_count": 11,
     "metadata": {},
     "output_type": "execute_result"
    }
   ],
   "source": [
    "# df['category_title'].value_counts(normalize=True)\n",
    "df['rating'].value_counts(bins=3)"
   ]
  },
  {
   "cell_type": "code",
   "execution_count": 12,
   "metadata": {},
   "outputs": [],
   "source": [
    "import matplotlib"
   ]
  },
  {
   "cell_type": "code",
   "execution_count": 13,
   "metadata": {},
   "outputs": [
    {
     "data": {
      "text/plain": [
       "<matplotlib.axes._subplots.AxesSubplot at 0x1016eb8090>"
      ]
     },
     "execution_count": 13,
     "metadata": {},
     "output_type": "execute_result"
    },
    {
     "data": {
      "image/png": "[encoded data removed]",
      "text/plain": [
       "<Figure size 432x288 with 1 Axes>"
      ]
     },
     "metadata": {
      "needs_background": "light"
     },
     "output_type": "display_data"
    }
   ],
   "source": [
    "df.rating.value_counts(bins=3).sort_values().plot(kind = 'barh')"
   ]
  },
  {
   "cell_type": "code",
   "execution_count": 14,
   "metadata": {},
   "outputs": [],
   "source": [
    "cat_desc=df['category_title'].describe()\n",
    "\n",
    "#cat_desc.value_counts()"
   ]
  },
  {
   "cell_type": "code",
   "execution_count": 15,
   "metadata": {},
   "outputs": [],
   "source": [
    " %matplotlib inline"
   ]
  },
  {
   "cell_type": "code",
   "execution_count": 16,
   "metadata": {},
   "outputs": [],
   "source": [
    "from pandas.plotting import scatter_matrix\n",
    "import matplotlib.pyplot as plt"
   ]
  },
  {
   "cell_type": "code",
   "execution_count": 17,
   "metadata": {},
   "outputs": [
    {
     "data": {
      "text/html": [
       "<div>\n",
       "<style scoped>\n",
       "    .dataframe tbody tr th:only-of-type {\n",
       "        vertical-align: middle;\n",
       "    }\n",
       "\n",
       "    .dataframe tbody tr th {\n",
       "        vertical-align: top;\n",
       "    }\n",
       "\n",
       "    .dataframe thead th {\n",
       "        text-align: right;\n",
       "    }\n",
       "</style>\n",
       "<table border=\"1\" class=\"dataframe\">\n",
       "  <thead>\n",
       "    <tr style=\"text-align: right;\">\n",
       "      <th></th>\n",
       "      <th>rating</th>\n",
       "      <th>review_count</th>\n",
       "      <th>lat</th>\n",
       "      <th>lon</th>\n",
       "    </tr>\n",
       "  </thead>\n",
       "  <tbody>\n",
       "    <tr>\n",
       "      <th>count</th>\n",
       "      <td>41340.000000</td>\n",
       "      <td>41340.000000</td>\n",
       "      <td>41340.000000</td>\n",
       "      <td>41340.000000</td>\n",
       "    </tr>\n",
       "    <tr>\n",
       "      <th>mean</th>\n",
       "      <td>3.709736</td>\n",
       "      <td>319.560619</td>\n",
       "      <td>33.984237</td>\n",
       "      <td>-118.230027</td>\n",
       "    </tr>\n",
       "    <tr>\n",
       "      <th>std</th>\n",
       "      <td>0.826178</td>\n",
       "      <td>540.151653</td>\n",
       "      <td>0.233293</td>\n",
       "      <td>1.208102</td>\n",
       "    </tr>\n",
       "    <tr>\n",
       "      <th>min</th>\n",
       "      <td>1.000000</td>\n",
       "      <td>1.000000</td>\n",
       "      <td>32.735255</td>\n",
       "      <td>-122.636364</td>\n",
       "    </tr>\n",
       "    <tr>\n",
       "      <th>25%</th>\n",
       "      <td>3.500000</td>\n",
       "      <td>40.000000</td>\n",
       "      <td>33.884500</td>\n",
       "      <td>-118.366720</td>\n",
       "    </tr>\n",
       "    <tr>\n",
       "      <th>50%</th>\n",
       "      <td>4.000000</td>\n",
       "      <td>140.000000</td>\n",
       "      <td>34.010422</td>\n",
       "      <td>-118.266761</td>\n",
       "    </tr>\n",
       "    <tr>\n",
       "      <th>75%</th>\n",
       "      <td>4.500000</td>\n",
       "      <td>383.000000</td>\n",
       "      <td>34.063700</td>\n",
       "      <td>-118.144566</td>\n",
       "    </tr>\n",
       "    <tr>\n",
       "      <th>max</th>\n",
       "      <td>5.000000</td>\n",
       "      <td>16955.000000</td>\n",
       "      <td>53.448678</td>\n",
       "      <td>-1.856684</td>\n",
       "    </tr>\n",
       "  </tbody>\n",
       "</table>\n",
       "</div>"
      ],
      "text/plain": [
       "             rating  review_count           lat           lon\n",
       "count  41340.000000  41340.000000  41340.000000  41340.000000\n",
       "mean       3.709736    319.560619     33.984237   -118.230027\n",
       "std        0.826178    540.151653      0.233293      1.208102\n",
       "min        1.000000      1.000000     32.735255   -122.636364\n",
       "25%        3.500000     40.000000     33.884500   -118.366720\n",
       "50%        4.000000    140.000000     34.010422   -118.266761\n",
       "75%        4.500000    383.000000     34.063700   -118.144566\n",
       "max        5.000000  16955.000000     53.448678     -1.856684"
      ]
     },
     "execution_count": 17,
     "metadata": {},
     "output_type": "execute_result"
    }
   ],
   "source": [
    "desc=df.describe()\n",
    "desc"
   ]
  },
  {
   "cell_type": "code",
   "execution_count": 18,
   "metadata": {},
   "outputs": [
    {
     "data": {
      "image/png": "[encoded data removed]",
      "text/plain": [
       "<Figure size 432x288 with 1 Axes>"
      ]
     },
     "metadata": {
      "needs_background": "light"
     },
     "output_type": "display_data"
    }
   ],
   "source": [
    "fig, axes = plt.subplots(1,1)\n",
    "axes = df['rating'].hist()\n",
    "\n",
    "plt.legend(df.columns)\n",
    "dfsummary = pd.DataFrame(df['rating'].describe())\n",
    "\n",
    "plt.table(cellText=dfsummary.values,\n",
    "      colWidths = [0.4]*2,\n",
    "      rowLabels=dfsummary.index,\n",
    "      colLabels=dfsummary.columns,\n",
    "      cellLoc = 'right', rowLoc = 'right',\n",
    "      loc='top')\n",
    "\n",
    "plt.show()"
   ]
  },
  {
   "cell_type": "code",
   "execution_count": 19,
   "metadata": {},
   "outputs": [
    {
     "data": {
      "text/plain": [
       "array([[<matplotlib.axes._subplots.AxesSubplot object at 0x1017bc9350>,\n",
       "        <matplotlib.axes._subplots.AxesSubplot object at 0x1017c93610>,\n",
       "        <matplotlib.axes._subplots.AxesSubplot object at 0x1017be4c10>,\n",
       "        <matplotlib.axes._subplots.AxesSubplot object at 0x1017e21f90>],\n",
       "       [<matplotlib.axes._subplots.AxesSubplot object at 0x1017e56c50>,\n",
       "        <matplotlib.axes._subplots.AxesSubplot object at 0x1017e98fd0>,\n",
       "        <matplotlib.axes._subplots.AxesSubplot object at 0x1017ecdad0>,\n",
       "        <matplotlib.axes._subplots.AxesSubplot object at 0x1017f06310>],\n",
       "       [<matplotlib.axes._subplots.AxesSubplot object at 0x1017f06e50>,\n",
       "        <matplotlib.axes._subplots.AxesSubplot object at 0x1017f43810>,\n",
       "        <matplotlib.axes._subplots.AxesSubplot object at 0x1017fafb50>,\n",
       "        <matplotlib.axes._subplots.AxesSubplot object at 0x1017feded0>],\n",
       "       [<matplotlib.axes._subplots.AxesSubplot object at 0x1018026b90>,\n",
       "        <matplotlib.axes._subplots.AxesSubplot object at 0x1018065f10>,\n",
       "        <matplotlib.axes._subplots.AxesSubplot object at 0x1018099bd0>,\n",
       "        <matplotlib.axes._subplots.AxesSubplot object at 0x10180daf50>]],\n",
       "      dtype=object)"
      ]
     },
     "execution_count": 19,
     "metadata": {},
     "output_type": "execute_result"
    },
    {
     "data": {
      "image/png": "[encoded data removed]",
      "text/plain": [
       "<Figure size 720x720 with 16 Axes>"
      ]
     },
     "metadata": {
      "needs_background": "light"
     },
     "output_type": "display_data"
    }
   ],
   "source": [
    "scatter_matrix(df, figsize=(10,10))"
   ]
  },
  {
   "cell_type": "code",
   "execution_count": 20,
   "metadata": {},
   "outputs": [
    {
     "data": {
      "text/plain": [
       "rating\n",
       "0.826178          540.151653\n",
       "1.000000            1.000000\n",
       "3.500000           40.000000\n",
       "3.709736          319.560619\n",
       "4.000000          140.000000\n",
       "4.500000          383.000000\n",
       "5.000000        16955.000000\n",
       "41340.000000    41340.000000\n",
       "Name: review_count, dtype: float64"
      ]
     },
     "execution_count": 20,
     "metadata": {},
     "output_type": "execute_result"
    }
   ],
   "source": [
    "desc.groupby('rating')['review_count'].mean()"
   ]
  },
  {
   "cell_type": "code",
   "execution_count": 21,
   "metadata": {},
   "outputs": [
    {
     "data": {
      "text/plain": [
       "rating\n",
       "0.826178          540.151653\n",
       "1.000000            1.000000\n",
       "3.500000           40.000000\n",
       "3.709736          319.560619\n",
       "4.000000          140.000000\n",
       "4.500000          383.000000\n",
       "5.000000        16955.000000\n",
       "41340.000000    41340.000000\n",
       "Name: review_count, dtype: float64"
      ]
     },
     "execution_count": 21,
     "metadata": {},
     "output_type": "execute_result"
    }
   ],
   "source": [
    "desc.groupby('rating')['review_count'].mean()"
   ]
  },
  {
   "cell_type": "code",
   "execution_count": 22,
   "metadata": {},
   "outputs": [],
   "source": [
    "# df[df['rating']> 2.5].groupby('address')['rating']"
   ]
  },
  {
   "cell_type": "code",
   "execution_count": 23,
   "metadata": {},
   "outputs": [
    {
     "data": {
      "text/plain": [
       "category_title\n",
       " Acai Bowls                0.975610\n",
       " African                   1.000000\n",
       " American (New)            0.964657\n",
       " American (Traditional)    0.860645\n",
       " Amusement Parks           0.500000\n",
       "                             ...   \n",
       "Waffles                    1.000000\n",
       "Wine Bars                  1.000000\n",
       "Wine Tasting Room          1.000000\n",
       "Wineries                   1.000000\n",
       "Wraps                      0.500000\n",
       "Name: rating, Length: 502, dtype: float64"
      ]
     },
     "execution_count": 23,
     "metadata": {},
     "output_type": "execute_result"
    }
   ],
   "source": [
    "df.groupby('category_title').rating.apply(lambda x: len(x[x>2.5])/len(x) )"
   ]
  },
  {
   "cell_type": "code",
   "execution_count": null,
   "metadata": {},
   "outputs": [],
   "source": []
  },
  {
   "cell_type": "code",
   "execution_count": null,
   "metadata": {},
   "outputs": [],
   "source": []
  },
  {
   "cell_type": "code",
   "execution_count": null,
   "metadata": {},
   "outputs": [],
   "source": []
  },
  {
   "cell_type": "code",
   "execution_count": null,
   "metadata": {},
   "outputs": [],
   "source": []
  }
 ],
 "metadata": {
  "kernelspec": {
   "display_name": "Python 3",
   "language": "python",
   "name": "python3"
  },
  "language_info": {
   "codemirror_mode": {
    "name": "ipython",
    "version": 3
   },
   "file_extension": ".py",
   "mimetype": "text/x-python",
   "name": "python",
   "nbconvert_exporter": "python",
   "pygments_lexer": "ipython3",
   "version": "3.7.4"
  }
 },
 "nbformat": 4,
 "nbformat_minor": 4
}
