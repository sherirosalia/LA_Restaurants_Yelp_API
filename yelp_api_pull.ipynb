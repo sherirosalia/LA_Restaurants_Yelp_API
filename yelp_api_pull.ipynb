{
  "nbformat": 4,
  "nbformat_minor": 0,
  "metadata": {
    "kernelspec": {
      "display_name": "Python 3",
      "language": "python",
      "name": "python3"
    },
    "language_info": {
      "codemirror_mode": {
        "name": "ipython",
        "version": 3
      },
      "file_extension": ".py",
      "mimetype": "text/x-python",
      "name": "python",
      "nbconvert_exporter": "python",
      "pygments_lexer": "ipython3",
      "version": "3.7.4"
    },
    "colab": {
      "name": "Copy of getting_yelp_data.ipynb",
      "provenance": [],
      "collapsed_sections": []
    }
  },
  "cells": [
    {
      "cell_type": "code",
      "metadata": {
        "id": "pk3EmVocLAsT",
        "colab_type": "code",
        "colab": {}
      },
      "source": [
        "import pandas as pd\n",
        "import requests\n",
        "import json\n",
        "from pprint import pprint\n",
        "import time\n",
        "# from config import yelp_api_key"
      ],
      "execution_count": 0,
      "outputs": []
    },
    {
      "cell_type": "code",
      "metadata": {
        "id": "-6CR8uHaLAsY",
        "colab_type": "code",
        "colab": {}
      },
      "source": [
        "yelp_api_key = \"\""
      ],
      "execution_count": 0,
      "outputs": []
    },
    {
      "cell_type": "code",
      "metadata": {
        "id": "rxLcCSCkLAsb",
        "colab_type": "code",
        "colab": {}
      },
      "source": [
        "url = \"https://api.yelp.com/v3/businesses/search\""
      ],
      "execution_count": 0,
      "outputs": []
    },
    {
      "cell_type": "code",
      "metadata": {
        "id": "h6t5BButLAse",
        "colab_type": "code",
        "outputId": "b6c3def6-b4e0-4c50-bc4a-19a59b030826",
        "colab": {}
      },
      "source": [
        "zip_codes=pd.read_csv('LA_Zips.csv')\n",
        "zip_codes.head()\n",
        "\n",
        "\n",
        "\n"
      ],
      "execution_count": 0,
      "outputs": [
        {
          "output_type": "execute_result",
          "data": {
            "text/html": [
              "<div>\n",
              "<style scoped>\n",
              "    .dataframe tbody tr th:only-of-type {\n",
              "        vertical-align: middle;\n",
              "    }\n",
              "\n",
              "    .dataframe tbody tr th {\n",
              "        vertical-align: top;\n",
              "    }\n",
              "\n",
              "    .dataframe thead th {\n",
              "        text-align: right;\n",
              "    }\n",
              "</style>\n",
              "<table border=\"1\" class=\"dataframe\">\n",
              "  <thead>\n",
              "    <tr style=\"text-align: right;\">\n",
              "      <th></th>\n",
              "      <th>ZIP Code</th>\n",
              "    </tr>\n",
              "  </thead>\n",
              "  <tbody>\n",
              "    <tr>\n",
              "      <th>0</th>\n",
              "      <td>90001</td>\n",
              "    </tr>\n",
              "    <tr>\n",
              "      <th>1</th>\n",
              "      <td>90002</td>\n",
              "    </tr>\n",
              "    <tr>\n",
              "      <th>2</th>\n",
              "      <td>90003</td>\n",
              "    </tr>\n",
              "    <tr>\n",
              "      <th>3</th>\n",
              "      <td>90004</td>\n",
              "    </tr>\n",
              "    <tr>\n",
              "      <th>4</th>\n",
              "      <td>90005</td>\n",
              "    </tr>\n",
              "  </tbody>\n",
              "</table>\n",
              "</div>"
            ],
            "text/plain": [
              "   ZIP Code\n",
              "0     90001\n",
              "1     90002\n",
              "2     90003\n",
              "3     90004\n",
              "4     90005"
            ]
          },
          "metadata": {
            "tags": []
          },
          "execution_count": 49
        }
      ]
    },
    {
      "cell_type": "code",
      "metadata": {
        "id": "P7MOGQyOLAsi",
        "colab_type": "code",
        "colab": {}
      },
      "source": [
        "headers = {'Authorization': 'Bearer %s' % yelp_api_key,}"
      ],
      "execution_count": 0,
      "outputs": []
    },
    {
      "cell_type": "code",
      "metadata": {
        "id": "Y4Q50C_rLAsm",
        "colab_type": "code",
        "colab": {}
      },
      "source": [
        "total_businesses = []\n",
        "\n",
        "for Z in zip_codes['ZIP Code']:\n",
        "    print(Z)\n",
        "    url_params = {'categories':'restaurants', 'location': Z, 'is_closed': 'False','offset': 0, 'limit': 50,}\n",
        "    response = requests.request('GET', url, headers=headers, params=url_params)\n",
        "\n",
        "    current_offset=0\n",
        "    current_limit=50\n",
        "    \n",
        "    total_response = response.json()['total']\n",
        "\n",
        "    while current_offset <= total_response:\n",
        "        print(current_offset)\n",
        "\n",
        "        url_params['offset']=current_offset\n",
        "        response = requests.request('GET', url, headers=headers, params=url_params)\n",
        "        if 'businesses' in response.json():\n",
        "            total_businesses += response.json()['businesses']\n",
        "            \n",
        "        current_offset += current_limit\n",
        "#         pprint(response.json())\n",
        "#     print(len(total_businesses))\n",
        "    "
      ],
      "execution_count": 0,
      "outputs": []
    },
    {
      "cell_type": "code",
      "metadata": {
        "id": "eQ_VX4K7LAsq",
        "colab_type": "code",
        "colab": {}
      },
      "source": [
        "list = []\n",
        "\n",
        "for biz in total_businesses:\n",
        "    \n",
        "    id_ = biz['id']\n",
        "    name = biz['name']\n",
        "    phone = biz['phone']\n",
        "    addresses = biz['location']['display_address']\n",
        "    address = '  '.join(addresses)\n",
        "    \n",
        "    services = biz['categories']\n",
        "    \n",
        "    alias = ''\n",
        "    title = ''\n",
        "    \n",
        "    for service in services:\n",
        "        alias += service['alias'] + ', '\n",
        "        title += service['title'] + ', '\n",
        "        \n",
        "    # more verbose alternate\n",
        "    #for service in services\n",
        "#         a_alias = service['alias']\n",
        "#         alias += a_alias\n",
        "        \n",
        "    \n",
        "    rating = biz['rating']\n",
        "    review_count = biz['review_count']\n",
        "    lat = biz['coordinates']['latitude']\n",
        "    lon = biz['coordinates']['longitude']\n",
        "    \n",
        "    if lat is None:\n",
        "        continue\n",
        "    if lon is None:\n",
        "        continue\n",
        "\n",
        "    yelp_dict = {\n",
        "                    'id': id_,\n",
        "                    'name': name,\n",
        "                    'phone': phone,\n",
        "                    'address' : address,\n",
        "                    'category_alias': alias,\n",
        "                    'category_title': title,\n",
        "                    'rating' : rating,\n",
        "                    'review_count' : review_count,\n",
        "                    'lat': lat,\n",
        "                    'lon': lon,\n",
        "                        }\n",
        "\n",
        "\n",
        "\n",
        "    pprint(yelp_dict)\n",
        "\n",
        "    list.append(yelp_dict)\n",
        "#     print(biz['coordinates'])\n",
        "\n",
        "\n",
        "\n",
        "    \n",
        "#     print(name  + '  ' +  phone + '  ' + review_count  + '  ' + lat   + '  ' + lon    + '\\n' +\n",
        "#           '  ' +  address  + '  ' +  rating) "
      ],
      "execution_count": 0,
      "outputs": []
    },
    {
      "cell_type": "code",
      "metadata": {
        "id": "jUxbkitXLAt4",
        "colab_type": "code",
        "outputId": "677cb13d-ab6d-481b-9a6c-ce84ff4f67e1",
        "colab": {}
      },
      "source": [
        "len(total_businesses)"
      ],
      "execution_count": 0,
      "outputs": [
        {
          "output_type": "execute_result",
          "data": {
            "text/plain": [
              "139390"
            ]
          },
          "metadata": {
            "tags": []
          },
          "execution_count": 66
        }
      ]
    },
    {
      "cell_type": "code",
      "metadata": {
        "id": "G-QSj8WnLAt7",
        "colab_type": "code",
        "outputId": "7e6ee000-089b-4ac3-8777-00e2342c6571",
        "colab": {}
      },
      "source": [
        "len(list)"
      ],
      "execution_count": 0,
      "outputs": [
        {
          "output_type": "execute_result",
          "data": {
            "text/plain": [
              "1000"
            ]
          },
          "metadata": {
            "tags": []
          },
          "execution_count": 60
        }
      ]
    },
    {
      "cell_type": "code",
      "metadata": {
        "scrolled": true,
        "id": "QJbVVskbLAt-",
        "colab_type": "code",
        "colab": {}
      },
      "source": [
        "LA_Rest = pd.DataFrame(list)\n",
        "# LA_Rest.dropna(axis=0, how='any',)\n",
        "\n",
        "# LA_Rest.head()"
      ],
      "execution_count": 0,
      "outputs": []
    },
    {
      "cell_type": "code",
      "metadata": {
        "id": "9BqdS9V8LAuD",
        "colab_type": "code",
        "outputId": "e3cac05a-f965-4829-d82e-eaef80ab340b",
        "colab": {}
      },
      "source": [
        "len(LA_Rest)"
      ],
      "execution_count": 0,
      "outputs": [
        {
          "output_type": "execute_result",
          "data": {
            "text/plain": [
              "1000"
            ]
          },
          "metadata": {
            "tags": []
          },
          "execution_count": 59
        }
      ]
    },
    {
      "cell_type": "code",
      "metadata": {
        "id": "VhV0od-YLAuF",
        "colab_type": "code",
        "colab": {}
      },
      "source": [
        "# saving the dataframe \n",
        "LA_Rest.to_csv('LA_rest_yelp.csv') "
      ],
      "execution_count": 0,
      "outputs": []
    },
    {
      "cell_type": "code",
      "metadata": {
        "id": "x_jIRG3tLAuK",
        "colab_type": "code",
        "colab": {}
      },
      "source": [
        ""
      ],
      "execution_count": 0,
      "outputs": []
    }
  ]
}