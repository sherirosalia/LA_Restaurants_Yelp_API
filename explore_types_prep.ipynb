{
 "cells": [
  {
   "cell_type": "code",
   "execution_count": 17,
   "metadata": {},
   "outputs": [],
   "source": [
    "import pandas as pd\n",
    "import numpy as np\n",
    "import matplotlib\n",
    "import matplotlib.pyplot as plt"
   ]
  },
  {
   "cell_type": "code",
   "execution_count": 18,
   "metadata": {},
   "outputs": [],
   "source": [
    "df=pd.read_csv('la_rest_types.csv', index_col=False)"
   ]
  },
  {
   "cell_type": "code",
   "execution_count": 19,
   "metadata": {},
   "outputs": [
    {
     "data": {
      "text/html": [
       "<div>\n",
       "<style scoped>\n",
       "    .dataframe tbody tr th:only-of-type {\n",
       "        vertical-align: middle;\n",
       "    }\n",
       "\n",
       "    .dataframe tbody tr th {\n",
       "        vertical-align: top;\n",
       "    }\n",
       "\n",
       "    .dataframe thead th {\n",
       "        text-align: right;\n",
       "    }\n",
       "</style>\n",
       "<table border=\"1\" class=\"dataframe\">\n",
       "  <thead>\n",
       "    <tr style=\"text-align: right;\">\n",
       "      <th></th>\n",
       "      <th>id</th>\n",
       "      <th>name</th>\n",
       "      <th>address</th>\n",
       "      <th>category_title</th>\n",
       "      <th>rating</th>\n",
       "      <th>review_count</th>\n",
       "      <th>lat</th>\n",
       "      <th>lon</th>\n",
       "      <th>zipcodes</th>\n",
       "    </tr>\n",
       "  </thead>\n",
       "  <tbody>\n",
       "    <tr>\n",
       "      <th>0</th>\n",
       "      <td>__4rPIbNWudQVuoaRs2MuQ</td>\n",
       "      <td>Best Shawarma</td>\n",
       "      <td>602 W Glenoaks Blvd  Glendale, CA 91202</td>\n",
       "      <td>Middle Eastern</td>\n",
       "      <td>4.0</td>\n",
       "      <td>349</td>\n",
       "      <td>34.159455</td>\n",
       "      <td>-118.267173</td>\n",
       "      <td>91202</td>\n",
       "    </tr>\n",
       "    <tr>\n",
       "      <th>1</th>\n",
       "      <td>__4rPIbNWudQVuoaRs2MuQ</td>\n",
       "      <td>Best Shawarma</td>\n",
       "      <td>602 W Glenoaks Blvd  Glendale, CA 91202</td>\n",
       "      <td>Barbeque</td>\n",
       "      <td>4.0</td>\n",
       "      <td>349</td>\n",
       "      <td>34.159455</td>\n",
       "      <td>-118.267173</td>\n",
       "      <td>91202</td>\n",
       "    </tr>\n",
       "  </tbody>\n",
       "</table>\n",
       "</div>"
      ],
      "text/plain": [
       "                       id           name  \\\n",
       "0  __4rPIbNWudQVuoaRs2MuQ  Best Shawarma   \n",
       "1  __4rPIbNWudQVuoaRs2MuQ  Best Shawarma   \n",
       "\n",
       "                                   address  category_title  rating  \\\n",
       "0  602 W Glenoaks Blvd  Glendale, CA 91202  Middle Eastern     4.0   \n",
       "1  602 W Glenoaks Blvd  Glendale, CA 91202        Barbeque     4.0   \n",
       "\n",
       "   review_count        lat         lon zipcodes  \n",
       "0           349  34.159455 -118.267173    91202  \n",
       "1           349  34.159455 -118.267173    91202  "
      ]
     },
     "execution_count": 19,
     "metadata": {},
     "output_type": "execute_result"
    }
   ],
   "source": [
    "# df.sample()\n",
    "df.head(2)\n"
   ]
  },
  {
   "cell_type": "code",
   "execution_count": 20,
   "metadata": {},
   "outputs": [],
   "source": [
    "df=df[df.zipcodes.str.startswith('9')]\n"
   ]
  },
  {
   "cell_type": "code",
   "execution_count": 21,
   "metadata": {},
   "outputs": [],
   "source": [
    "# df.isnull()"
   ]
  },
  {
   "cell_type": "code",
   "execution_count": 22,
   "metadata": {},
   "outputs": [],
   "source": [
    "df['category_title'].replace(' ', np.nan, inplace=True)"
   ]
  },
  {
   "cell_type": "code",
   "execution_count": 23,
   "metadata": {},
   "outputs": [],
   "source": [
    "# df.isnull()"
   ]
  },
  {
   "cell_type": "code",
   "execution_count": 24,
   "metadata": {},
   "outputs": [],
   "source": [
    "df.dropna(inplace=True)"
   ]
  },
  {
   "cell_type": "code",
   "execution_count": 25,
   "metadata": {},
   "outputs": [
    {
     "data": {
      "text/html": [
       "<div>\n",
       "<style scoped>\n",
       "    .dataframe tbody tr th:only-of-type {\n",
       "        vertical-align: middle;\n",
       "    }\n",
       "\n",
       "    .dataframe tbody tr th {\n",
       "        vertical-align: top;\n",
       "    }\n",
       "\n",
       "    .dataframe thead th {\n",
       "        text-align: right;\n",
       "    }\n",
       "</style>\n",
       "<table border=\"1\" class=\"dataframe\">\n",
       "  <thead>\n",
       "    <tr style=\"text-align: right;\">\n",
       "      <th></th>\n",
       "      <th>id</th>\n",
       "      <th>name</th>\n",
       "      <th>address</th>\n",
       "      <th>category_title</th>\n",
       "      <th>rating</th>\n",
       "      <th>review_count</th>\n",
       "      <th>lat</th>\n",
       "      <th>lon</th>\n",
       "      <th>zipcodes</th>\n",
       "    </tr>\n",
       "  </thead>\n",
       "  <tbody>\n",
       "    <tr>\n",
       "      <th>12792</th>\n",
       "      <td>b5Zq2SM4LFf9nDMUMfwgxA</td>\n",
       "      <td>Jack in the Box</td>\n",
       "      <td>4170 Lakewood Blvd  Long Beach, CA 90808</td>\n",
       "      <td>Tacos</td>\n",
       "      <td>3.0</td>\n",
       "      <td>36</td>\n",
       "      <td>33.833393</td>\n",
       "      <td>-118.142268</td>\n",
       "      <td>90808</td>\n",
       "    </tr>\n",
       "    <tr>\n",
       "      <th>18701</th>\n",
       "      <td>ebVDYS4h52Uw_7svALt82Q</td>\n",
       "      <td>Honey Baked Ham Company</td>\n",
       "      <td>2428 W Whittier Blvd  La Habra, CA 90631</td>\n",
       "      <td>Sandwiches</td>\n",
       "      <td>4.0</td>\n",
       "      <td>52</td>\n",
       "      <td>33.939320</td>\n",
       "      <td>-117.973947</td>\n",
       "      <td>90631</td>\n",
       "    </tr>\n",
       "  </tbody>\n",
       "</table>\n",
       "</div>"
      ],
      "text/plain": [
       "                           id                     name  \\\n",
       "12792  b5Zq2SM4LFf9nDMUMfwgxA          Jack in the Box   \n",
       "18701  ebVDYS4h52Uw_7svALt82Q  Honey Baked Ham Company   \n",
       "\n",
       "                                        address category_title  rating  \\\n",
       "12792  4170 Lakewood Blvd  Long Beach, CA 90808          Tacos     3.0   \n",
       "18701  2428 W Whittier Blvd  La Habra, CA 90631     Sandwiches     4.0   \n",
       "\n",
       "       review_count        lat         lon zipcodes  \n",
       "12792            36  33.833393 -118.142268    90808  \n",
       "18701            52  33.939320 -117.973947    90631  "
      ]
     },
     "execution_count": 25,
     "metadata": {},
     "output_type": "execute_result"
    }
   ],
   "source": [
    "df.reset_index(drop=True)\n",
    "df.sample(2)"
   ]
  },
  {
   "cell_type": "code",
   "execution_count": 26,
   "metadata": {},
   "outputs": [],
   "source": [
    "# df.isnull()"
   ]
  },
  {
   "cell_type": "code",
   "execution_count": null,
   "metadata": {},
   "outputs": [],
   "source": []
  },
  {
   "cell_type": "code",
   "execution_count": 27,
   "metadata": {},
   "outputs": [],
   "source": [
    "import matplotlib.pyplot as plt\n",
    "import numpy as np\n",
    "import seaborn as sns\n",
    "from matplotlib.pyplot import figure\n",
    " "
   ]
  },
  {
   "cell_type": "code",
   "execution_count": 28,
   "metadata": {},
   "outputs": [],
   "source": [
    "api_key = ''"
   ]
  },
  {
   "cell_type": "code",
   "execution_count": 29,
   "metadata": {},
   "outputs": [],
   "source": [
    "import gmaps\n",
    "\n",
    "\n",
    "# Access maps with unique API key\n",
    "gmaps.configure(api_key=api_key)"
   ]
  },
  {
   "cell_type": "code",
   "execution_count": null,
   "metadata": {},
   "outputs": [],
   "source": []
  },
  {
   "cell_type": "code",
   "execution_count": 30,
   "metadata": {},
   "outputs": [],
   "source": [
    "# bestR=aT[(aT[\"review_count\"]>=500) & (aT[\"rating\"]== 5)]\n"
   ]
  },
  {
   "cell_type": "code",
   "execution_count": 31,
   "metadata": {},
   "outputs": [],
   "source": [
    "# bestR=aT[(aT[\"review_count\"]>=500) & (aT[\"rating\"]== 5)]\n",
    "\n",
    "# lat=list(bestR['lat'])\n",
    "# lon=list(bestR['lon'])\n",
    "\n",
    "# zip(lat, lon)\n",
    "# coordinates = [x for x in zip(lat, lon)]\n",
    "\n",
    "\n",
    "\n",
    "# # Customize the size of the figure\n",
    "# figure_layout = {\n",
    "#     'width': '400px',\n",
    "#     'height': '300px',\n",
    "#     'border': '1px solid black',\n",
    "#     'padding': '1px',\n",
    "#     'margin': '0 auto 0 auto'\n",
    "# }\n",
    "\n",
    "# fig = gmaps.figure(layout=figure_layout)\n",
    "# rest_name=bestR['name'].tolist()\n",
    "# # Assign the marker layer to a variable\n",
    "# info_box_content=[f\"Restaurant name: {name}\" for name in rest_name]\n",
    "# markers = gmaps.marker_layer(coordinates, info_box_content=info_box_content )\n",
    "# heat_layer = gmaps.heatmap_layer(coordinates, weights=bestR['rating']-5, \n",
    "#                                  dissipating=False, max_intensity=5,\n",
    "#                                  point_radius = .018)\n",
    "# # Add the layer to the map\n",
    "# fig.add_layer(heat_layer)\n",
    "# fig.add_layer(markers)\n",
    "# fig"
   ]
  },
  {
   "cell_type": "code",
   "execution_count": null,
   "metadata": {},
   "outputs": [],
   "source": []
  },
  {
   "cell_type": "code",
   "execution_count": null,
   "metadata": {},
   "outputs": [],
   "source": []
  },
  {
   "cell_type": "code",
   "execution_count": null,
   "metadata": {},
   "outputs": [],
   "source": []
  }
 ],
 "metadata": {
  "kernelspec": {
   "display_name": "Python 3",
   "language": "python",
   "name": "python3"
  },
  "language_info": {
   "codemirror_mode": {
    "name": "ipython",
    "version": 3
   },
   "file_extension": ".py",
   "mimetype": "text/x-python",
   "name": "python",
   "nbconvert_exporter": "python",
   "pygments_lexer": "ipython3",
   "version": "3.7.4"
  }
 },
 "nbformat": 4,
 "nbformat_minor": 4
}
