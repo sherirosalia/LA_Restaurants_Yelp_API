{
 "cells": [
  {
   "cell_type": "code",
   "execution_count": 96,
   "metadata": {},
   "outputs": [],
   "source": [
    "import pandas as pd\n",
    "import numpy as np"
   ]
  },
  {
   "cell_type": "code",
   "execution_count": 97,
   "metadata": {},
   "outputs": [],
   "source": [
    "df=pd.read_csv('la_rest_types.csv', index_col=False)"
   ]
  },
  {
   "cell_type": "code",
   "execution_count": 99,
   "metadata": {},
   "outputs": [
    {
     "data": {
      "text/html": [
       "<div>\n",
       "<style scoped>\n",
       "    .dataframe tbody tr th:only-of-type {\n",
       "        vertical-align: middle;\n",
       "    }\n",
       "\n",
       "    .dataframe tbody tr th {\n",
       "        vertical-align: top;\n",
       "    }\n",
       "\n",
       "    .dataframe thead th {\n",
       "        text-align: right;\n",
       "    }\n",
       "</style>\n",
       "<table border=\"1\" class=\"dataframe\">\n",
       "  <thead>\n",
       "    <tr style=\"text-align: right;\">\n",
       "      <th></th>\n",
       "      <th>id</th>\n",
       "      <th>name</th>\n",
       "      <th>address</th>\n",
       "      <th>category_title</th>\n",
       "      <th>rating</th>\n",
       "      <th>review_count</th>\n",
       "      <th>lat</th>\n",
       "      <th>lon</th>\n",
       "      <th>zipcodes</th>\n",
       "    </tr>\n",
       "  </thead>\n",
       "  <tbody>\n",
       "    <tr>\n",
       "      <th>0</th>\n",
       "      <td>__4rPIbNWudQVuoaRs2MuQ</td>\n",
       "      <td>Best Shawarma</td>\n",
       "      <td>602 W Glenoaks Blvd  Glendale, CA 91202</td>\n",
       "      <td>Middle Eastern</td>\n",
       "      <td>4.0</td>\n",
       "      <td>349</td>\n",
       "      <td>34.159455</td>\n",
       "      <td>-118.267173</td>\n",
       "      <td>91202</td>\n",
       "    </tr>\n",
       "    <tr>\n",
       "      <th>1</th>\n",
       "      <td>__4rPIbNWudQVuoaRs2MuQ</td>\n",
       "      <td>Best Shawarma</td>\n",
       "      <td>602 W Glenoaks Blvd  Glendale, CA 91202</td>\n",
       "      <td>Barbeque</td>\n",
       "      <td>4.0</td>\n",
       "      <td>349</td>\n",
       "      <td>34.159455</td>\n",
       "      <td>-118.267173</td>\n",
       "      <td>91202</td>\n",
       "    </tr>\n",
       "  </tbody>\n",
       "</table>\n",
       "</div>"
      ],
      "text/plain": [
       "                       id           name  \\\n",
       "0  __4rPIbNWudQVuoaRs2MuQ  Best Shawarma   \n",
       "1  __4rPIbNWudQVuoaRs2MuQ  Best Shawarma   \n",
       "\n",
       "                                   address  category_title  rating  \\\n",
       "0  602 W Glenoaks Blvd  Glendale, CA 91202  Middle Eastern     4.0   \n",
       "1  602 W Glenoaks Blvd  Glendale, CA 91202        Barbeque     4.0   \n",
       "\n",
       "   review_count        lat         lon zipcodes  \n",
       "0           349  34.159455 -118.267173    91202  \n",
       "1           349  34.159455 -118.267173    91202  "
      ]
     },
     "execution_count": 99,
     "metadata": {},
     "output_type": "execute_result"
    }
   ],
   "source": [
    "# df.sample()\n",
    "df.head(2)\n"
   ]
  },
  {
   "cell_type": "code",
   "execution_count": 103,
   "metadata": {},
   "outputs": [
    {
     "data": {
      "text/plain": [
       "0        True\n",
       "1        True\n",
       "2        True\n",
       "3        True\n",
       "4        True\n",
       "         ... \n",
       "61420    True\n",
       "61421    True\n",
       "61422    True\n",
       "61423    True\n",
       "61424    True\n",
       "Name: zipcodes, Length: 61425, dtype: bool"
      ]
     },
     "execution_count": 103,
     "metadata": {},
     "output_type": "execute_result"
    }
   ],
   "source": [
    "df.zipcodes.str.startswith('9')"
   ]
  },
  {
   "cell_type": "code",
   "execution_count": 105,
   "metadata": {},
   "outputs": [],
   "source": [
    "df=df[df.zipcodes.str.startswith('9')]"
   ]
  },
  {
   "cell_type": "code",
   "execution_count": null,
   "metadata": {},
   "outputs": [],
   "source": []
  },
  {
   "cell_type": "code",
   "execution_count": 106,
   "metadata": {},
   "outputs": [],
   "source": [
    "# df.isnull()"
   ]
  },
  {
   "cell_type": "code",
   "execution_count": 107,
   "metadata": {},
   "outputs": [],
   "source": [
    "df['category_title'].replace(' ', np.nan, inplace=True)"
   ]
  },
  {
   "cell_type": "code",
   "execution_count": 108,
   "metadata": {},
   "outputs": [],
   "source": [
    "# df.isnull()"
   ]
  },
  {
   "cell_type": "code",
   "execution_count": 109,
   "metadata": {},
   "outputs": [],
   "source": [
    "df.dropna(inplace=True)"
   ]
  },
  {
   "cell_type": "code",
   "execution_count": 110,
   "metadata": {},
   "outputs": [
    {
     "data": {
      "text/html": [
       "<div>\n",
       "<style scoped>\n",
       "    .dataframe tbody tr th:only-of-type {\n",
       "        vertical-align: middle;\n",
       "    }\n",
       "\n",
       "    .dataframe tbody tr th {\n",
       "        vertical-align: top;\n",
       "    }\n",
       "\n",
       "    .dataframe thead th {\n",
       "        text-align: right;\n",
       "    }\n",
       "</style>\n",
       "<table border=\"1\" class=\"dataframe\">\n",
       "  <thead>\n",
       "    <tr style=\"text-align: right;\">\n",
       "      <th></th>\n",
       "      <th>id</th>\n",
       "      <th>name</th>\n",
       "      <th>address</th>\n",
       "      <th>category_title</th>\n",
       "      <th>rating</th>\n",
       "      <th>review_count</th>\n",
       "      <th>lat</th>\n",
       "      <th>lon</th>\n",
       "      <th>zipcodes</th>\n",
       "    </tr>\n",
       "  </thead>\n",
       "  <tbody>\n",
       "    <tr>\n",
       "      <th>26255</th>\n",
       "      <td>I499t5nyk3WgSHFVSVhW2w</td>\n",
       "      <td>FishBar</td>\n",
       "      <td>3801 Highland Ave  Manhattan Beach, CA 90266</td>\n",
       "      <td>Breakfast &amp; Brunch</td>\n",
       "      <td>4.0</td>\n",
       "      <td>1649</td>\n",
       "      <td>33.901701</td>\n",
       "      <td>-118.418306</td>\n",
       "      <td>90266</td>\n",
       "    </tr>\n",
       "  </tbody>\n",
       "</table>\n",
       "</div>"
      ],
      "text/plain": [
       "                           id     name  \\\n",
       "26255  I499t5nyk3WgSHFVSVhW2w  FishBar   \n",
       "\n",
       "                                            address       category_title  \\\n",
       "26255  3801 Highland Ave  Manhattan Beach, CA 90266   Breakfast & Brunch   \n",
       "\n",
       "       rating  review_count        lat         lon zipcodes  \n",
       "26255     4.0          1649  33.901701 -118.418306    90266  "
      ]
     },
     "execution_count": 110,
     "metadata": {},
     "output_type": "execute_result"
    }
   ],
   "source": [
    "df.reset_index(drop=True)\n",
    "df.sample()"
   ]
  },
  {
   "cell_type": "code",
   "execution_count": 111,
   "metadata": {},
   "outputs": [],
   "source": [
    "# df.isnull()"
   ]
  },
  {
   "cell_type": "code",
   "execution_count": 112,
   "metadata": {},
   "outputs": [
    {
     "data": {
      "text/plain": [
       "4.0    13291\n",
       "4.5     7968\n",
       "3.5     7900\n",
       "3.0     4029\n",
       "5.0     2504\n",
       "2.5     2346\n",
       "2.0     2010\n",
       "1.5      832\n",
       "1.0      268\n",
       "Name: rating, dtype: int64"
      ]
     },
     "execution_count": 112,
     "metadata": {},
     "output_type": "execute_result"
    }
   ],
   "source": [
    "df['rating'].value_counts()"
   ]
  },
  {
   "cell_type": "code",
   "execution_count": 113,
   "metadata": {},
   "outputs": [
    {
     "data": {
      "text/plain": [
       "(3.667, 5.0]      23763\n",
       "(2.333, 3.667]    14275\n",
       "(0.995, 2.333]     3110\n",
       "Name: rating, dtype: int64"
      ]
     },
     "execution_count": 113,
     "metadata": {},
     "output_type": "execute_result"
    }
   ],
   "source": [
    "# df['category_title'].value_counts(normalize=True)\n",
    "df['rating'].value_counts(bins=3)"
   ]
  },
  {
   "cell_type": "code",
   "execution_count": 114,
   "metadata": {},
   "outputs": [],
   "source": [
    "import matplotlib"
   ]
  },
  {
   "cell_type": "code",
   "execution_count": 115,
   "metadata": {},
   "outputs": [
    {
     "data": {
      "text/plain": [
       "<matplotlib.axes._subplots.AxesSubplot at 0x1029fce3d0>"
      ]
     },
     "execution_count": 115,
     "metadata": {},
     "output_type": "execute_result"
    },
    {
     "data": {
      "image/png": "[encoded data removed]",
      "text/plain": [
       "<Figure size 432x288 with 1 Axes>"
      ]
     },
     "metadata": {
      "needs_background": "light"
     },
     "output_type": "display_data"
    }
   ],
   "source": [
    "df.rating.value_counts(bins=3).sort_values().plot(kind = 'barh')"
   ]
  },
  {
   "cell_type": "code",
   "execution_count": 116,
   "metadata": {},
   "outputs": [],
   "source": [
    "cat_desc=df['category_title'].describe()\n",
    "\n",
    "#cat_desc.value_counts()"
   ]
  },
  {
   "cell_type": "code",
   "execution_count": 117,
   "metadata": {},
   "outputs": [],
   "source": [
    " %matplotlib inline"
   ]
  },
  {
   "cell_type": "code",
   "execution_count": 118,
   "metadata": {},
   "outputs": [],
   "source": [
    "from pandas.plotting import scatter_matrix\n",
    "import matplotlib.pyplot as plt"
   ]
  },
  {
   "cell_type": "code",
   "execution_count": 119,
   "metadata": {},
   "outputs": [
    {
     "data": {
      "text/html": [
       "<div>\n",
       "<style scoped>\n",
       "    .dataframe tbody tr th:only-of-type {\n",
       "        vertical-align: middle;\n",
       "    }\n",
       "\n",
       "    .dataframe tbody tr th {\n",
       "        vertical-align: top;\n",
       "    }\n",
       "\n",
       "    .dataframe thead th {\n",
       "        text-align: right;\n",
       "    }\n",
       "</style>\n",
       "<table border=\"1\" class=\"dataframe\">\n",
       "  <thead>\n",
       "    <tr style=\"text-align: right;\">\n",
       "      <th></th>\n",
       "      <th>rating</th>\n",
       "      <th>review_count</th>\n",
       "      <th>lat</th>\n",
       "      <th>lon</th>\n",
       "    </tr>\n",
       "  </thead>\n",
       "  <tbody>\n",
       "    <tr>\n",
       "      <th>count</th>\n",
       "      <td>41148.000000</td>\n",
       "      <td>41148.000000</td>\n",
       "      <td>41148.000000</td>\n",
       "      <td>41148.000000</td>\n",
       "    </tr>\n",
       "    <tr>\n",
       "      <th>mean</th>\n",
       "      <td>3.710460</td>\n",
       "      <td>320.939122</td>\n",
       "      <td>33.979838</td>\n",
       "      <td>-118.256826</td>\n",
       "    </tr>\n",
       "    <tr>\n",
       "      <th>std</th>\n",
       "      <td>0.824635</td>\n",
       "      <td>541.021245</td>\n",
       "      <td>0.122265</td>\n",
       "      <td>0.173395</td>\n",
       "    </tr>\n",
       "    <tr>\n",
       "      <th>min</th>\n",
       "      <td>1.000000</td>\n",
       "      <td>1.000000</td>\n",
       "      <td>33.167953</td>\n",
       "      <td>-122.636364</td>\n",
       "    </tr>\n",
       "    <tr>\n",
       "      <th>25%</th>\n",
       "      <td>3.500000</td>\n",
       "      <td>40.000000</td>\n",
       "      <td>33.884035</td>\n",
       "      <td>-118.367151</td>\n",
       "    </tr>\n",
       "    <tr>\n",
       "      <th>50%</th>\n",
       "      <td>4.000000</td>\n",
       "      <td>141.000000</td>\n",
       "      <td>34.009925</td>\n",
       "      <td>-118.267295</td>\n",
       "    </tr>\n",
       "    <tr>\n",
       "      <th>75%</th>\n",
       "      <td>4.500000</td>\n",
       "      <td>384.000000</td>\n",
       "      <td>34.063720</td>\n",
       "      <td>-118.144367</td>\n",
       "    </tr>\n",
       "    <tr>\n",
       "      <th>max</th>\n",
       "      <td>5.000000</td>\n",
       "      <td>16955.000000</td>\n",
       "      <td>37.895588</td>\n",
       "      <td>-117.225868</td>\n",
       "    </tr>\n",
       "  </tbody>\n",
       "</table>\n",
       "</div>"
      ],
      "text/plain": [
       "             rating  review_count           lat           lon\n",
       "count  41148.000000  41148.000000  41148.000000  41148.000000\n",
       "mean       3.710460    320.939122     33.979838   -118.256826\n",
       "std        0.824635    541.021245      0.122265      0.173395\n",
       "min        1.000000      1.000000     33.167953   -122.636364\n",
       "25%        3.500000     40.000000     33.884035   -118.367151\n",
       "50%        4.000000    141.000000     34.009925   -118.267295\n",
       "75%        4.500000    384.000000     34.063720   -118.144367\n",
       "max        5.000000  16955.000000     37.895588   -117.225868"
      ]
     },
     "execution_count": 119,
     "metadata": {},
     "output_type": "execute_result"
    }
   ],
   "source": [
    "desc=df.describe()\n",
    "desc"
   ]
  },
  {
   "cell_type": "code",
   "execution_count": 120,
   "metadata": {},
   "outputs": [
    {
     "data": {
      "image/png": "[encoded data removed]",
      "text/plain": [
       "<Figure size 432x288 with 1 Axes>"
      ]
     },
     "metadata": {
      "needs_background": "light"
     },
     "output_type": "display_data"
    }
   ],
   "source": [
    "fig, axes = plt.subplots(1,1)\n",
    "axes = df['rating'].hist()\n",
    "\n",
    "plt.legend(df.columns)\n",
    "dfsummary = pd.DataFrame(df['rating'].describe())\n",
    "\n",
    "plt.table(cellText=dfsummary.values,\n",
    "      colWidths = [0.4]*2,\n",
    "      rowLabels=dfsummary.index,\n",
    "      colLabels=dfsummary.columns,\n",
    "      cellLoc = 'right', rowLoc = 'right',\n",
    "      loc='top')\n",
    "\n",
    "plt.show()"
   ]
  },
  {
   "cell_type": "code",
   "execution_count": 121,
   "metadata": {},
   "outputs": [
    {
     "data": {
      "text/plain": [
       "array([[<matplotlib.axes._subplots.AxesSubplot object at 0x102839da10>,\n",
       "        <matplotlib.axes._subplots.AxesSubplot object at 0x1029f942d0>,\n",
       "        <matplotlib.axes._subplots.AxesSubplot object at 0x102832ec10>,\n",
       "        <matplotlib.axes._subplots.AxesSubplot object at 0x1027de1590>],\n",
       "       [<matplotlib.axes._subplots.AxesSubplot object at 0x1027e1f850>,\n",
       "        <matplotlib.axes._subplots.AxesSubplot object at 0x10279fabd0>,\n",
       "        <matplotlib.axes._subplots.AxesSubplot object at 0x10275a6150>,\n",
       "        <matplotlib.axes._subplots.AxesSubplot object at 0x101f2d97d0>],\n",
       "       [<matplotlib.axes._subplots.AxesSubplot object at 0x1027014090>,\n",
       "        <matplotlib.axes._subplots.AxesSubplot object at 0x1027a3dd10>,\n",
       "        <matplotlib.axes._subplots.AxesSubplot object at 0x10275ed390>,\n",
       "        <matplotlib.axes._subplots.AxesSubplot object at 0x10275f5b90>],\n",
       "       [<matplotlib.axes._subplots.AxesSubplot object at 0x10283363d0>,\n",
       "        <matplotlib.axes._subplots.AxesSubplot object at 0x1027df5bd0>,\n",
       "        <matplotlib.axes._subplots.AxesSubplot object at 0x1027033410>,\n",
       "        <matplotlib.axes._subplots.AxesSubplot object at 0x1027ad2c10>]],\n",
       "      dtype=object)"
      ]
     },
     "execution_count": 121,
     "metadata": {},
     "output_type": "execute_result"
    },
    {
     "data": {
      "image/png": "[encoded data removed]",
      "text/plain": [
       "<Figure size 720x720 with 16 Axes>"
      ]
     },
     "metadata": {
      "needs_background": "light"
     },
     "output_type": "display_data"
    }
   ],
   "source": [
    "scatter_matrix(df, figsize=(10,10))"
   ]
  },
  {
   "cell_type": "code",
   "execution_count": 122,
   "metadata": {},
   "outputs": [
    {
     "data": {
      "text/plain": [
       "rating\n",
       "0.824635          541.021245\n",
       "1.000000            1.000000\n",
       "3.500000           40.000000\n",
       "3.710460          320.939122\n",
       "4.000000          141.000000\n",
       "4.500000          384.000000\n",
       "5.000000        16955.000000\n",
       "41148.000000    41148.000000\n",
       "Name: review_count, dtype: float64"
      ]
     },
     "execution_count": 122,
     "metadata": {},
     "output_type": "execute_result"
    }
   ],
   "source": [
    "desc.groupby('rating')['review_count'].mean()"
   ]
  },
  {
   "cell_type": "code",
   "execution_count": 123,
   "metadata": {},
   "outputs": [
    {
     "data": {
      "text/plain": [
       "rating\n",
       "0.824635          541.021245\n",
       "1.000000            1.000000\n",
       "3.500000           40.000000\n",
       "3.710460          320.939122\n",
       "4.000000          141.000000\n",
       "4.500000          384.000000\n",
       "5.000000        16955.000000\n",
       "41148.000000    41148.000000\n",
       "Name: review_count, dtype: float64"
      ]
     },
     "execution_count": 123,
     "metadata": {},
     "output_type": "execute_result"
    }
   ],
   "source": [
    "desc.groupby('rating')['review_count'].mean()"
   ]
  },
  {
   "cell_type": "code",
   "execution_count": 124,
   "metadata": {},
   "outputs": [],
   "source": [
    "# df[df['rating']> 2.5].groupby('address')['rating']"
   ]
  },
  {
   "cell_type": "code",
   "execution_count": 125,
   "metadata": {},
   "outputs": [
    {
     "data": {
      "text/plain": [
       "zipcodes        90000.0\n",
       "review_count        1.0\n",
       "rating              1.0\n",
       "dtype: float64"
      ]
     },
     "execution_count": 125,
     "metadata": {},
     "output_type": "execute_result"
    },
    {
     "data": {
      "image/png": "[encoded data removed]",
      "text/plain": [
       "<Figure size 432x288 with 1 Axes>"
      ]
     },
     "metadata": {
      "needs_background": "light"
     },
     "output_type": "display_data"
    }
   ],
   "source": [
    "gr_zip = df.groupby(['zipcodes', 'review_count'])['rating'].median().reset_index()\n",
    "\n",
    "gr_zip['rating'].plot(kind='hist')\n",
    "gr_zip.min()\n"
   ]
  },
  {
   "cell_type": "code",
   "execution_count": 126,
   "metadata": {},
   "outputs": [
    {
     "data": {
      "text/plain": [
       "category_title\n",
       " Acai Bowls                0.975610\n",
       " African                   1.000000\n",
       " American (New)            0.964509\n",
       " American (Traditional)    0.860645\n",
       " Amusement Parks           0.500000\n",
       "                             ...   \n",
       "Waffles                    1.000000\n",
       "Wine Bars                  1.000000\n",
       "Wine Tasting Room          1.000000\n",
       "Wineries                   1.000000\n",
       "Wraps                      0.500000\n",
       "Name: rating, Length: 499, dtype: float64"
      ]
     },
     "execution_count": 126,
     "metadata": {},
     "output_type": "execute_result"
    }
   ],
   "source": [
    "df.groupby('category_title').rating.apply(lambda x: len(x[x>2.5])/len(x) )"
   ]
  },
  {
   "cell_type": "code",
   "execution_count": 127,
   "metadata": {},
   "outputs": [
    {
     "data": {
      "text/html": [
       "<div>\n",
       "<style scoped>\n",
       "    .dataframe tbody tr th:only-of-type {\n",
       "        vertical-align: middle;\n",
       "    }\n",
       "\n",
       "    .dataframe tbody tr th {\n",
       "        vertical-align: top;\n",
       "    }\n",
       "\n",
       "    .dataframe thead th {\n",
       "        text-align: right;\n",
       "    }\n",
       "</style>\n",
       "<table border=\"1\" class=\"dataframe\">\n",
       "  <thead>\n",
       "    <tr style=\"text-align: right;\">\n",
       "      <th></th>\n",
       "      <th>id</th>\n",
       "      <th>name</th>\n",
       "      <th>address</th>\n",
       "      <th>category_title</th>\n",
       "      <th>rating</th>\n",
       "      <th>review_count</th>\n",
       "      <th>lat</th>\n",
       "      <th>lon</th>\n",
       "      <th>zipcodes</th>\n",
       "    </tr>\n",
       "  </thead>\n",
       "  <tbody>\n",
       "    <tr>\n",
       "      <th>57813</th>\n",
       "      <td>yGAcv-JFLXUQwi8HNA6aDQ</td>\n",
       "      <td>Taqueria El Atacor</td>\n",
       "      <td>11156 1/2 Whittier Blvd  Whittier, CA 90606</td>\n",
       "      <td>Mexican</td>\n",
       "      <td>3.5</td>\n",
       "      <td>87</td>\n",
       "      <td>33.986533</td>\n",
       "      <td>-118.059325</td>\n",
       "      <td>90606</td>\n",
       "    </tr>\n",
       "  </tbody>\n",
       "</table>\n",
       "</div>"
      ],
      "text/plain": [
       "                           id                name  \\\n",
       "57813  yGAcv-JFLXUQwi8HNA6aDQ  Taqueria El Atacor   \n",
       "\n",
       "                                           address category_title  rating  \\\n",
       "57813  11156 1/2 Whittier Blvd  Whittier, CA 90606        Mexican     3.5   \n",
       "\n",
       "       review_count        lat         lon zipcodes  \n",
       "57813            87  33.986533 -118.059325    90606  "
      ]
     },
     "execution_count": 127,
     "metadata": {},
     "output_type": "execute_result"
    }
   ],
   "source": [
    "df.sample()"
   ]
  },
  {
   "cell_type": "code",
   "execution_count": null,
   "metadata": {},
   "outputs": [],
   "source": []
  },
  {
   "cell_type": "code",
   "execution_count": 128,
   "metadata": {},
   "outputs": [
    {
     "data": {
      "text/plain": [
       "zipcodes\n",
       "90000    4.000000\n",
       "90001    3.626582\n",
       "90002    3.352273\n",
       "90003    3.304965\n",
       "90004    3.852941\n",
       "           ...   \n",
       "94703    5.000000\n",
       "94970    4.500000\n",
       "95020    3.000000\n",
       "95113    3.000000\n",
       "96001    5.000000\n",
       "Name: rating, Length: 346, dtype: float64"
      ]
     },
     "execution_count": 128,
     "metadata": {},
     "output_type": "execute_result"
    }
   ],
   "source": [
    "means = df.groupby('zipcodes').mean()['rating']\n",
    "means\n",
    "# medians = clean_study_data_complete.groupby('Drug Regimen').median()['Tumor Volume (mm3)']\n",
    "# variances = clean_study_data_complete.groupby('Drug Regimen').var()['Tumor Volume (mm3)']\n",
    "# sds = clean_study_data_complete.groupby('Drug Regimen').std()['Tumor Volume (mm3)']\n",
    "# sems = clean_study_data_complete.groupby('Drug Regimen').sem()['Tumor Volume (mm3)']\n",
    "# summary_table = pd.DataFrame({\"Mean Tumor Volume\":means,\n",
    "#                               \"Median Tumor Volume\":medians,\n",
    "#                               \"Tumor Volume Variance\":variances,\n",
    "#                               \"Tumor Volume Std. Dev.\":sds,\n",
    "#                               \"Tumor Volume Std. Err.\":sems})"
   ]
  },
  {
   "cell_type": "code",
   "execution_count": null,
   "metadata": {},
   "outputs": [],
   "source": []
  },
  {
   "cell_type": "code",
   "execution_count": 129,
   "metadata": {},
   "outputs": [
    {
     "data": {
      "text/plain": [
       "zipcodes\n",
       "90000     1753\n",
       "90001     6070\n",
       "90002     1904\n",
       "90003     5562\n",
       "90004    72633\n",
       "         ...  \n",
       "94703        1\n",
       "94970      520\n",
       "95020       36\n",
       "95113     2766\n",
       "96001       18\n",
       "Name: review_count, Length: 346, dtype: int64"
      ]
     },
     "execution_count": 129,
     "metadata": {},
     "output_type": "execute_result"
    }
   ],
   "source": [
    "revCount = df.groupby('zipcodes').sum()['review_count']\n",
    "revCount\n"
   ]
  },
  {
   "cell_type": "code",
   "execution_count": 130,
   "metadata": {},
   "outputs": [
    {
     "data": {
      "text/plain": [
       "<matplotlib.axes._subplots.AxesSubplot at 0x1026e9d550>"
      ]
     },
     "execution_count": 130,
     "metadata": {},
     "output_type": "execute_result"
    },
    {
     "data": {
      "image/png": "[encoded data removed]",
      "text/plain": [
       "<Figure size 432x288 with 1 Axes>"
      ]
     },
     "metadata": {
      "needs_background": "light"
     },
     "output_type": "display_data"
    }
   ],
   "source": [
    "revCount.plot(kind='line')"
   ]
  },
  {
   "cell_type": "code",
   "execution_count": 131,
   "metadata": {},
   "outputs": [
    {
     "name": "stdout",
     "output_type": "stream",
     "text": [
      "Requirement already satisfied: seaborn in /usr/local/Caskroom/miniconda/base/lib/python3.7/site-packages (0.10.1)\n",
      "Requirement already satisfied: matplotlib>=2.1.2 in /usr/local/Caskroom/miniconda/base/lib/python3.7/site-packages (from seaborn) (3.1.3)\n",
      "Requirement already satisfied: pandas>=0.22.0 in /usr/local/Caskroom/miniconda/base/lib/python3.7/site-packages (from seaborn) (1.0.1)\n",
      "Requirement already satisfied: numpy>=1.13.3 in /usr/local/Caskroom/miniconda/base/lib/python3.7/site-packages (from seaborn) (1.18.1)\n",
      "Requirement already satisfied: scipy>=1.0.1 in /usr/local/Caskroom/miniconda/base/lib/python3.7/site-packages (from seaborn) (1.4.1)\n",
      "Requirement already satisfied: python-dateutil>=2.1 in /usr/local/Caskroom/miniconda/base/lib/python3.7/site-packages (from matplotlib>=2.1.2->seaborn) (2.8.1)\n",
      "Requirement already satisfied: kiwisolver>=1.0.1 in /usr/local/Caskroom/miniconda/base/lib/python3.7/site-packages (from matplotlib>=2.1.2->seaborn) (1.1.0)\n",
      "Requirement already satisfied: cycler>=0.10 in /usr/local/Caskroom/miniconda/base/lib/python3.7/site-packages (from matplotlib>=2.1.2->seaborn) (0.10.0)\n",
      "Requirement already satisfied: pyparsing!=2.0.4,!=2.1.2,!=2.1.6,>=2.0.1 in /usr/local/Caskroom/miniconda/base/lib/python3.7/site-packages (from matplotlib>=2.1.2->seaborn) (2.4.6)\n",
      "Requirement already satisfied: pytz>=2017.2 in /usr/local/Caskroom/miniconda/base/lib/python3.7/site-packages (from pandas>=0.22.0->seaborn) (2019.3)\n",
      "Requirement already satisfied: six>=1.5 in /usr/local/Caskroom/miniconda/base/lib/python3.7/site-packages (from python-dateutil>=2.1->matplotlib>=2.1.2->seaborn) (1.12.0)\n",
      "Requirement already satisfied: setuptools in /usr/local/Caskroom/miniconda/base/lib/python3.7/site-packages (from kiwisolver>=1.0.1->matplotlib>=2.1.2->seaborn) (41.4.0)\n"
     ]
    }
   ],
   "source": [
    "%%bash\n",
    "pip install seaborn"
   ]
  },
  {
   "cell_type": "code",
   "execution_count": 132,
   "metadata": {},
   "outputs": [
    {
     "data": {
      "text/plain": [
       "zipcodes\n",
       "90000    4.000000\n",
       "90001    3.626582\n",
       "90002    3.352273\n",
       "90003    3.304965\n",
       "90004    3.852941\n",
       "           ...   \n",
       "94703    5.000000\n",
       "94970    4.500000\n",
       "95020    3.000000\n",
       "95113    3.000000\n",
       "96001    5.000000\n",
       "Name: rating, Length: 346, dtype: float64"
      ]
     },
     "execution_count": 132,
     "metadata": {},
     "output_type": "execute_result"
    }
   ],
   "source": [
    "means = df.groupby('zipcodes').mean()['rating']\n",
    "means"
   ]
  },
  {
   "cell_type": "code",
   "execution_count": 137,
   "metadata": {},
   "outputs": [
    {
     "data": {
      "text/plain": [
       "zipcodes\n",
       "90000      5\n",
       "90001    237\n",
       "90002     44\n",
       "90003    141\n",
       "90004    323\n",
       "        ... \n",
       "94703      1\n",
       "94970      2\n",
       "95020      1\n",
       "95113      3\n",
       "96001      3\n",
       "Length: 346, dtype: int64"
      ]
     },
     "execution_count": 137,
     "metadata": {},
     "output_type": "execute_result"
    }
   ],
   "source": [
    "total_count = df.groupby('zipcodes').size()\n",
    "total_count"
   ]
  },
  {
   "cell_type": "code",
   "execution_count": 141,
   "metadata": {},
   "outputs": [
    {
     "data": {
      "image/png": "[encoded data removed]",
      "text/plain": [
       "<Figure size 432x288 with 1 Axes>"
      ]
     },
     "metadata": {
      "needs_background": "light"
     },
     "output_type": "display_data"
    }
   ],
   "source": [
    "import matplotlib.pyplot as plt\n",
    "import numpy as np\n",
    "import seaborn as sns\n",
    " \n",
    "# create data\n",
    "x = total_count\n",
    "y = medians\n",
    "z = revCount\n",
    "# z=z*z\n",
    "# z=z.sum()\n",
    "\n",
    "# Change color with c and alpha. I map the color to the X axis value.\n",
    "plt.scatter(x, y, s=z/75, c=z, cmap=\"Blues\", alpha=0.4, edgecolors=\"grey\", linewidth=2)\n",
    " \n",
    "# Add titles (main and on axis)\n",
    "plt.xlabel(\"Number of Restaurants Per Zipcode\")\n",
    "plt.ylabel(\"Average Rating\")\n",
    "plt.title(\"Restaurants by ZipCode, Rating and Review Count\")\n",
    " \n",
    "plt.show()"
   ]
  },
  {
   "cell_type": "code",
   "execution_count": 142,
   "metadata": {},
   "outputs": [
    {
     "data": {
      "image/png": "[encoded data removed]",
      "text/plain": [
       "<Figure size 432x288 with 1 Axes>"
      ]
     },
     "metadata": {
      "needs_background": "light"
     },
     "output_type": "display_data"
    }
   ],
   "source": [
    "# create data\n",
    "x = total_count\n",
    "y = means\n",
    "z = revCount\n",
    "# z=z*z\n",
    "# z=z.sum()\n",
    "\n",
    "# Change color with c and alpha. I map the color to the X axis value.\n",
    "plt.scatter(x, y, s=z/75, c=z, cmap=\"Blues\", alpha=0.4, edgecolors=\"grey\", linewidth=2)\n",
    " \n",
    "# Add titles (main and on axis)\n",
    "plt.xlabel(\"Number of Restaurants Per Zipcode\")\n",
    "plt.ylabel(\"Average Rating\")\n",
    "plt.title(\"Restaurants by ZipCode, Rating and Review Count\")\n",
    " \n",
    "plt.show()"
   ]
  },
  {
   "cell_type": "code",
   "execution_count": 152,
   "metadata": {},
   "outputs": [],
   "source": [
    "g = df.groupby('zipcodes')\n",
    "rest_zips = [name for name,unused_df in g]\n",
    "# rest_zips"
   ]
  },
  {
   "cell_type": "code",
   "execution_count": 153,
   "metadata": {},
   "outputs": [],
   "source": [
    "# rest_zip = df['zipcodes'].unique()\n",
    "# rest_zip"
   ]
  },
  {
   "cell_type": "code",
   "execution_count": null,
   "metadata": {},
   "outputs": [],
   "source": []
  },
  {
   "cell_type": "code",
   "execution_count": null,
   "metadata": {},
   "outputs": [],
   "source": []
  },
  {
   "cell_type": "code",
   "execution_count": null,
   "metadata": {},
   "outputs": [],
   "source": []
  },
  {
   "cell_type": "code",
   "execution_count": 155,
   "metadata": {},
   "outputs": [
    {
     "data": {
      "text/html": [
       "<div>\n",
       "<style scoped>\n",
       "    .dataframe tbody tr th:only-of-type {\n",
       "        vertical-align: middle;\n",
       "    }\n",
       "\n",
       "    .dataframe tbody tr th {\n",
       "        vertical-align: top;\n",
       "    }\n",
       "\n",
       "    .dataframe thead th {\n",
       "        text-align: right;\n",
       "    }\n",
       "</style>\n",
       "<table border=\"1\" class=\"dataframe\">\n",
       "  <thead>\n",
       "    <tr style=\"text-align: right;\">\n",
       "      <th></th>\n",
       "      <th>Avg</th>\n",
       "      <th>Med</th>\n",
       "      <th>RevCnt</th>\n",
       "      <th>ZipCnt</th>\n",
       "      <th>Zips</th>\n",
       "    </tr>\n",
       "    <tr>\n",
       "      <th>zipcodes</th>\n",
       "      <th></th>\n",
       "      <th></th>\n",
       "      <th></th>\n",
       "      <th></th>\n",
       "      <th></th>\n",
       "    </tr>\n",
       "  </thead>\n",
       "  <tbody>\n",
       "    <tr>\n",
       "      <th>90000</th>\n",
       "      <td>4.000000</td>\n",
       "      <td>4.0</td>\n",
       "      <td>1753</td>\n",
       "      <td>5</td>\n",
       "      <td>90000</td>\n",
       "    </tr>\n",
       "    <tr>\n",
       "      <th>90001</th>\n",
       "      <td>3.626582</td>\n",
       "      <td>4.0</td>\n",
       "      <td>6070</td>\n",
       "      <td>237</td>\n",
       "      <td>90001</td>\n",
       "    </tr>\n",
       "    <tr>\n",
       "      <th>90002</th>\n",
       "      <td>3.352273</td>\n",
       "      <td>4.0</td>\n",
       "      <td>1904</td>\n",
       "      <td>44</td>\n",
       "      <td>90002</td>\n",
       "    </tr>\n",
       "    <tr>\n",
       "      <th>90003</th>\n",
       "      <td>3.304965</td>\n",
       "      <td>3.5</td>\n",
       "      <td>5562</td>\n",
       "      <td>141</td>\n",
       "      <td>90003</td>\n",
       "    </tr>\n",
       "    <tr>\n",
       "      <th>90004</th>\n",
       "      <td>3.852941</td>\n",
       "      <td>4.0</td>\n",
       "      <td>72633</td>\n",
       "      <td>323</td>\n",
       "      <td>90004</td>\n",
       "    </tr>\n",
       "    <tr>\n",
       "      <th>...</th>\n",
       "      <td>...</td>\n",
       "      <td>...</td>\n",
       "      <td>...</td>\n",
       "      <td>...</td>\n",
       "      <td>...</td>\n",
       "    </tr>\n",
       "    <tr>\n",
       "      <th>94703</th>\n",
       "      <td>5.000000</td>\n",
       "      <td>5.0</td>\n",
       "      <td>1</td>\n",
       "      <td>1</td>\n",
       "      <td>94703</td>\n",
       "    </tr>\n",
       "    <tr>\n",
       "      <th>94970</th>\n",
       "      <td>4.500000</td>\n",
       "      <td>4.5</td>\n",
       "      <td>520</td>\n",
       "      <td>2</td>\n",
       "      <td>94970</td>\n",
       "    </tr>\n",
       "    <tr>\n",
       "      <th>95020</th>\n",
       "      <td>3.000000</td>\n",
       "      <td>3.0</td>\n",
       "      <td>36</td>\n",
       "      <td>1</td>\n",
       "      <td>95020</td>\n",
       "    </tr>\n",
       "    <tr>\n",
       "      <th>95113</th>\n",
       "      <td>3.000000</td>\n",
       "      <td>3.0</td>\n",
       "      <td>2766</td>\n",
       "      <td>3</td>\n",
       "      <td>95113</td>\n",
       "    </tr>\n",
       "    <tr>\n",
       "      <th>96001</th>\n",
       "      <td>5.000000</td>\n",
       "      <td>5.0</td>\n",
       "      <td>18</td>\n",
       "      <td>3</td>\n",
       "      <td>96001</td>\n",
       "    </tr>\n",
       "  </tbody>\n",
       "</table>\n",
       "<p>346 rows × 5 columns</p>\n",
       "</div>"
      ],
      "text/plain": [
       "               Avg  Med  RevCnt  ZipCnt   Zips\n",
       "zipcodes                                      \n",
       "90000     4.000000  4.0    1753       5  90000\n",
       "90001     3.626582  4.0    6070     237  90001\n",
       "90002     3.352273  4.0    1904      44  90002\n",
       "90003     3.304965  3.5    5562     141  90003\n",
       "90004     3.852941  4.0   72633     323  90004\n",
       "...            ...  ...     ...     ...    ...\n",
       "94703     5.000000  5.0       1       1  94703\n",
       "94970     4.500000  4.5     520       2  94970\n",
       "95020     3.000000  3.0      36       1  95020\n",
       "95113     3.000000  3.0    2766       3  95113\n",
       "96001     5.000000  5.0      18       3  96001\n",
       "\n",
       "[346 rows x 5 columns]"
      ]
     },
     "execution_count": 155,
     "metadata": {},
     "output_type": "execute_result"
    }
   ],
   "source": [
    "summary_table = pd.DataFrame({\"Avg\":means,\n",
    "                              \"Med\":medians,\n",
    "                              \"RevCnt\":revCount,\n",
    "                              \"ZipCnt\":total_count,\n",
    "                              \"Zips\":rest_zips})\n",
    "summary_table"
   ]
  },
  {
   "cell_type": "code",
   "execution_count": 156,
   "metadata": {},
   "outputs": [
    {
     "data": {
      "text/plain": [
       "zipcodes\n",
       "90000    False\n",
       "90001    False\n",
       "90002    False\n",
       "90003    False\n",
       "90004    False\n",
       "         ...  \n",
       "94703    False\n",
       "94970    False\n",
       "95020    False\n",
       "95113    False\n",
       "96001    False\n",
       "Name: ZipCnt, Length: 346, dtype: bool"
      ]
     },
     "execution_count": 156,
     "metadata": {},
     "output_type": "execute_result"
    }
   ],
   "source": [
    "summary_table[\"ZipCnt\"]>=500\n"
   ]
  },
  {
   "cell_type": "code",
   "execution_count": 157,
   "metadata": {},
   "outputs": [
    {
     "data": {
      "text/html": [
       "<div>\n",
       "<style scoped>\n",
       "    .dataframe tbody tr th:only-of-type {\n",
       "        vertical-align: middle;\n",
       "    }\n",
       "\n",
       "    .dataframe tbody tr th {\n",
       "        vertical-align: top;\n",
       "    }\n",
       "\n",
       "    .dataframe thead th {\n",
       "        text-align: right;\n",
       "    }\n",
       "</style>\n",
       "<table border=\"1\" class=\"dataframe\">\n",
       "  <thead>\n",
       "    <tr style=\"text-align: right;\">\n",
       "      <th></th>\n",
       "      <th>Avg</th>\n",
       "      <th>Med</th>\n",
       "      <th>RevCnt</th>\n",
       "      <th>ZipCnt</th>\n",
       "      <th>Zips</th>\n",
       "    </tr>\n",
       "    <tr>\n",
       "      <th>zipcodes</th>\n",
       "      <th></th>\n",
       "      <th></th>\n",
       "      <th></th>\n",
       "      <th></th>\n",
       "      <th></th>\n",
       "    </tr>\n",
       "  </thead>\n",
       "  <tbody>\n",
       "    <tr>\n",
       "      <th>90012</th>\n",
       "      <td>3.812727</td>\n",
       "      <td>4.0</td>\n",
       "      <td>288699</td>\n",
       "      <td>550</td>\n",
       "      <td>90012</td>\n",
       "    </tr>\n",
       "    <tr>\n",
       "      <th>90015</th>\n",
       "      <td>3.841748</td>\n",
       "      <td>4.0</td>\n",
       "      <td>101195</td>\n",
       "      <td>515</td>\n",
       "      <td>90015</td>\n",
       "    </tr>\n",
       "    <tr>\n",
       "      <th>90028</th>\n",
       "      <td>3.659504</td>\n",
       "      <td>4.0</td>\n",
       "      <td>247340</td>\n",
       "      <td>605</td>\n",
       "      <td>90028</td>\n",
       "    </tr>\n",
       "    <tr>\n",
       "      <th>90045</th>\n",
       "      <td>3.059434</td>\n",
       "      <td>3.0</td>\n",
       "      <td>114351</td>\n",
       "      <td>530</td>\n",
       "      <td>90045</td>\n",
       "    </tr>\n",
       "  </tbody>\n",
       "</table>\n",
       "</div>"
      ],
      "text/plain": [
       "               Avg  Med  RevCnt  ZipCnt   Zips\n",
       "zipcodes                                      \n",
       "90012     3.812727  4.0  288699     550  90012\n",
       "90015     3.841748  4.0  101195     515  90015\n",
       "90028     3.659504  4.0  247340     605  90028\n",
       "90045     3.059434  3.0  114351     530  90045"
      ]
     },
     "execution_count": 157,
     "metadata": {},
     "output_type": "execute_result"
    }
   ],
   "source": [
    "summary_table[summary_table[\"ZipCnt\"]>=500]"
   ]
  },
  {
   "cell_type": "code",
   "execution_count": 159,
   "metadata": {},
   "outputs": [
    {
     "data": {
      "image/png": "[encoded data removed]",
      "text/plain": [
       "<Figure size 432x288 with 1 Axes>"
      ]
     },
     "metadata": {
      "needs_background": "light"
     },
     "output_type": "display_data"
    }
   ],
   "source": [
    "# create data\n",
    "x = total_count\n",
    "y = revCount\n",
    "z = means\n",
    "# z=z*z\n",
    "# z=z.sum()\n",
    "\n",
    "# Change color with c and alpha. I map the color to the X axis value.\n",
    "plt.scatter(x, y, s=z, c=z, cmap=\"Blues\", alpha=0.4, edgecolors=\"grey\", linewidth=2)\n",
    " \n",
    "# Add titles (main and on axis)\n",
    "plt.xlabel(\"Number of Restaurants Per Zipcode\")\n",
    "plt.ylabel(\"Average Rating\")\n",
    "plt.title(\"Restaurants by ZipCode, Rating and Review Count\")\n",
    " \n",
    "plt.show()"
   ]
  },
  {
   "cell_type": "code",
   "execution_count": 194,
   "metadata": {},
   "outputs": [],
   "source": [
    "api_key = 'yourkeyhere'"
   ]
  },
  {
   "cell_type": "code",
   "execution_count": 195,
   "metadata": {},
   "outputs": [],
   "source": [
    "import gmaps\n",
    "\n",
    "\n",
    "# Access maps with unique API key\n",
    "gmaps.configure(api_key=api_key)"
   ]
  },
  {
   "cell_type": "code",
   "execution_count": 196,
   "metadata": {},
   "outputs": [],
   "source": [
    "# # Customize the size of the figure\n",
    "# figure_layout = {\n",
    "#     'width': '400px',\n",
    "#     'height': '300px',\n",
    "#     'border': '1px solid black',\n",
    "#     'padding': '1px',\n",
    "#     'margin': '0 auto 0 auto'\n",
    "# }\n",
    "# fig = gmaps.figure(layout=figure_layout)"
   ]
  },
  {
   "cell_type": "code",
   "execution_count": null,
   "metadata": {},
   "outputs": [],
   "source": []
  },
  {
   "cell_type": "code",
   "execution_count": null,
   "metadata": {},
   "outputs": [],
   "source": []
  },
  {
   "cell_type": "code",
   "execution_count": null,
   "metadata": {},
   "outputs": [],
   "source": []
  },
  {
   "cell_type": "code",
   "execution_count": 171,
   "metadata": {},
   "outputs": [
    {
     "data": {
      "text/html": [
       "<div>\n",
       "<style scoped>\n",
       "    .dataframe tbody tr th:only-of-type {\n",
       "        vertical-align: middle;\n",
       "    }\n",
       "\n",
       "    .dataframe tbody tr th {\n",
       "        vertical-align: top;\n",
       "    }\n",
       "\n",
       "    .dataframe thead th {\n",
       "        text-align: right;\n",
       "    }\n",
       "</style>\n",
       "<table border=\"1\" class=\"dataframe\">\n",
       "  <thead>\n",
       "    <tr style=\"text-align: right;\">\n",
       "      <th></th>\n",
       "      <th>id</th>\n",
       "      <th>name</th>\n",
       "      <th>phone</th>\n",
       "      <th>address</th>\n",
       "      <th>category_alias</th>\n",
       "      <th>category_title</th>\n",
       "      <th>rating</th>\n",
       "      <th>review_count</th>\n",
       "      <th>lat</th>\n",
       "      <th>lon</th>\n",
       "    </tr>\n",
       "  </thead>\n",
       "  <tbody>\n",
       "    <tr>\n",
       "      <th>9803</th>\n",
       "      <td>k0-syddVN1EqPM5dWbKbfw</td>\n",
       "      <td>Johnny's Shrimp Boat</td>\n",
       "      <td>1.626813e+10</td>\n",
       "      <td>803 S Glendora Ave  West Covina, CA 91790</td>\n",
       "      <td>seafood, fishnchips, hotdogs,</td>\n",
       "      <td>Seafood, Fish &amp; Chips, Fast Food,</td>\n",
       "      <td>4.0</td>\n",
       "      <td>136</td>\n",
       "      <td>34.06144</td>\n",
       "      <td>-117.93253</td>\n",
       "    </tr>\n",
       "  </tbody>\n",
       "</table>\n",
       "</div>"
      ],
      "text/plain": [
       "                          id                  name         phone  \\\n",
       "9803  k0-syddVN1EqPM5dWbKbfw  Johnny's Shrimp Boat  1.626813e+10   \n",
       "\n",
       "                                        address  \\\n",
       "9803  803 S Glendora Ave  West Covina, CA 91790   \n",
       "\n",
       "                      category_alias                      category_title  \\\n",
       "9803  seafood, fishnchips, hotdogs,   Seafood, Fish & Chips, Fast Food,    \n",
       "\n",
       "      rating  review_count       lat        lon  \n",
       "9803     4.0           136  34.06144 -117.93253  "
      ]
     },
     "execution_count": 171,
     "metadata": {},
     "output_type": "execute_result"
    }
   ],
   "source": [
    "#datframe for all types of food\n",
    "aT=pd.read_csv('LA_rest_yelp_no_dupes.csv')\n",
    "aT.sample()"
   ]
  },
  {
   "cell_type": "code",
   "execution_count": 172,
   "metadata": {},
   "outputs": [
    {
     "data": {
      "text/html": [
       "<div>\n",
       "<style scoped>\n",
       "    .dataframe tbody tr th:only-of-type {\n",
       "        vertical-align: middle;\n",
       "    }\n",
       "\n",
       "    .dataframe tbody tr th {\n",
       "        vertical-align: top;\n",
       "    }\n",
       "\n",
       "    .dataframe thead th {\n",
       "        text-align: right;\n",
       "    }\n",
       "</style>\n",
       "<table border=\"1\" class=\"dataframe\">\n",
       "  <thead>\n",
       "    <tr style=\"text-align: right;\">\n",
       "      <th></th>\n",
       "      <th>id</th>\n",
       "      <th>name</th>\n",
       "      <th>phone</th>\n",
       "      <th>address</th>\n",
       "      <th>category_alias</th>\n",
       "      <th>category_title</th>\n",
       "      <th>rating</th>\n",
       "      <th>review_count</th>\n",
       "      <th>lat</th>\n",
       "      <th>lon</th>\n",
       "      <th>zipcodes</th>\n",
       "    </tr>\n",
       "  </thead>\n",
       "  <tbody>\n",
       "    <tr>\n",
       "      <th>10152</th>\n",
       "      <td>knJ9cXuYSztqNDEODGCk9Q</td>\n",
       "      <td>Cecconi's West Hollywood</td>\n",
       "      <td>1.310432e+10</td>\n",
       "      <td>8764 Melrose Ave  West Hollywood, CA 90069</td>\n",
       "      <td>italian,</td>\n",
       "      <td>Italian,</td>\n",
       "      <td>3.5</td>\n",
       "      <td>1422</td>\n",
       "      <td>34.080505</td>\n",
       "      <td>-118.385041</td>\n",
       "      <td>90069</td>\n",
       "    </tr>\n",
       "  </tbody>\n",
       "</table>\n",
       "</div>"
      ],
      "text/plain": [
       "                           id                      name         phone  \\\n",
       "10152  knJ9cXuYSztqNDEODGCk9Q  Cecconi's West Hollywood  1.310432e+10   \n",
       "\n",
       "                                          address category_alias  \\\n",
       "10152  8764 Melrose Ave  West Hollywood, CA 90069      italian,    \n",
       "\n",
       "      category_title  rating  review_count        lat         lon zipcodes  \n",
       "10152      Italian,      3.5          1422  34.080505 -118.385041    90069  "
      ]
     },
     "execution_count": 172,
     "metadata": {},
     "output_type": "execute_result"
    }
   ],
   "source": [
    "zipcodes = list()\n",
    "\n",
    "for item in aT['address']:\n",
    "    zipcode = item.split()[-1]\n",
    "    zipcodes.append(zipcode)\n",
    "\n",
    "aT['zipcodes'] = zipcodes\n",
    "aT = pd.DataFrame(aT)\n",
    "aT.sample()"
   ]
  },
  {
   "cell_type": "code",
   "execution_count": 175,
   "metadata": {},
   "outputs": [
    {
     "data": {
      "text/plain": [
       "['Suite 131  735 S Figueroa Street  Los Angeles 90017  United Kingdom',\n",
       " '243 Castle La West  Bournemouth BH8 9TG  United Kingdom',\n",
       " '181 Thornley La South  Stockport SK5 6QG  United Kingdom']"
      ]
     },
     "execution_count": 175,
     "metadata": {},
     "output_type": "execute_result"
    }
   ],
   "source": [
    "list(aT[aT[\"zipcodes\"]=='Kingdom']['address'])"
   ]
  },
  {
   "cell_type": "code",
   "execution_count": 176,
   "metadata": {},
   "outputs": [
    {
     "data": {
      "text/plain": [
       "['Cudahy St  Los Angeles, CA',\n",
       " 'Los Angeles  Los Angeles, CA',\n",
       " 'Carson, CA',\n",
       " 'Torrance, CA',\n",
       " '102 Stonewood Mall  Downey, CA',\n",
       " 'Los Angeles, CA',\n",
       " 'Los Angeles, CA',\n",
       " 'Los Angeles, CA',\n",
       " 'Los Angeles, CA',\n",
       " 'Long Beach, CA',\n",
       " 'Los Angeles, CA',\n",
       " 'Los Angeles, CA',\n",
       " 'Los Angeles, CA',\n",
       " 'Hollywood  Holllywood, CA',\n",
       " '543 Hotel Cir S  San Pedro, CA',\n",
       " 'Orange, CA',\n",
       " 'Los Angeles, CA',\n",
       " 'Downtown  Los Angeles, CA',\n",
       " 'Los Angeles, CA',\n",
       " 'Los Angeles, CA',\n",
       " 'Los Angeles, CA',\n",
       " 'Los Angeles, CA',\n",
       " 'Lakewood, CA',\n",
       " 'Los Angeles, CA',\n",
       " 'Los Angeles, CA',\n",
       " 'Los Angeles, CA',\n",
       " 'Los Angeles, CA',\n",
       " 'hollywood  Los Angeles, CA',\n",
       " 'Los Angeles, CA',\n",
       " 'Los Angeles, CA',\n",
       " 'Los Angeles, CA',\n",
       " '3RD St Normandie Ave NW  Los Angeles, CA',\n",
       " 'Los Angeles, CA',\n",
       " 'Los Angeles, CA',\n",
       " '5311 Cotner Ave  Los Angeles, CA',\n",
       " 'Long Beach, CA',\n",
       " 'Norwalk, CA',\n",
       " 'Los Angeles, CA',\n",
       " 'Los Angeles, CA',\n",
       " 'Los Angeles, CA',\n",
       " 'Los Angeles, CA',\n",
       " '12TH Between Main And Los Angeles  Santee Alley Area  Los Angeles, CA',\n",
       " 'Redondo Beach, CA',\n",
       " 'Beverly Hills, CA',\n",
       " 'Los Angeles, CA',\n",
       " 'Los Angeles, CA',\n",
       " 'Los Angeles, CA',\n",
       " 'Los Angeles, CA',\n",
       " 'Bell, CA',\n",
       " 'Hermosa Beach  Los Angeles, CA',\n",
       " 'Los Angeles, CA',\n",
       " 'Los Angeles, CA',\n",
       " 'Los Angeles, CA',\n",
       " 'Long Beach, CA',\n",
       " 'Santa Monica, CA',\n",
       " 'Los Angeles, CA',\n",
       " 'Bell Gardens, CA',\n",
       " 'Los Angeles, CA',\n",
       " 'Los Angeles, CA',\n",
       " 'Los Angeles, CA',\n",
       " 'San Fernando Valley, CA',\n",
       " 'Los Angeles, CA',\n",
       " 'Los Angeles, CA',\n",
       " 'Los Angeles, CA',\n",
       " 'Beach Blvd  Buena Park, CA',\n",
       " 'Los Angeles, CA',\n",
       " 'Los Angeles, CA',\n",
       " 'Los Angeles, CA',\n",
       " 'Los Angeles, CA',\n",
       " 'Los Angeles, CA',\n",
       " 'Los Angeles, CA',\n",
       " 'Los Angeles, CA',\n",
       " 'West Los Angeles, CA',\n",
       " 'Los Angeles, CA',\n",
       " 'Redondo Beach, CA',\n",
       " 'Los Angeles, CA',\n",
       " 'Los Angeles, CA',\n",
       " 'Los Angeles, CA',\n",
       " 'Los Angeles, CA',\n",
       " 'Los Angeles, CA',\n",
       " 'Los Angeles, CA',\n",
       " 'Los Angeles, CA',\n",
       " 'Los Angeles, CA',\n",
       " 'Plaza Mexico  Lynwood, CA',\n",
       " 'Thousand Oaks, CA',\n",
       " 'Buena Park, CA',\n",
       " 'Los Angeles, CA']"
      ]
     },
     "execution_count": 176,
     "metadata": {},
     "output_type": "execute_result"
    }
   ],
   "source": [
    "list(aT[aT[\"zipcodes\"]=='CA']['address'])"
   ]
  },
  {
   "cell_type": "code",
   "execution_count": 178,
   "metadata": {},
   "outputs": [
    {
     "data": {
      "text/html": [
       "<div>\n",
       "<style scoped>\n",
       "    .dataframe tbody tr th:only-of-type {\n",
       "        vertical-align: middle;\n",
       "    }\n",
       "\n",
       "    .dataframe tbody tr th {\n",
       "        vertical-align: top;\n",
       "    }\n",
       "\n",
       "    .dataframe thead th {\n",
       "        text-align: right;\n",
       "    }\n",
       "</style>\n",
       "<table border=\"1\" class=\"dataframe\">\n",
       "  <thead>\n",
       "    <tr style=\"text-align: right;\">\n",
       "      <th></th>\n",
       "      <th>id</th>\n",
       "      <th>name</th>\n",
       "      <th>phone</th>\n",
       "      <th>address</th>\n",
       "      <th>category_alias</th>\n",
       "      <th>category_title</th>\n",
       "      <th>rating</th>\n",
       "      <th>review_count</th>\n",
       "      <th>lat</th>\n",
       "      <th>lon</th>\n",
       "      <th>zipcodes</th>\n",
       "    </tr>\n",
       "  </thead>\n",
       "  <tbody>\n",
       "    <tr>\n",
       "      <th>17303</th>\n",
       "      <td>VWNrQxTv9yhRN1ScuJOneQ</td>\n",
       "      <td>Pick Up Stix</td>\n",
       "      <td>1.818752e+10</td>\n",
       "      <td>3960 Laurel Canyon Blvd  Studio City, CA 91604</td>\n",
       "      <td>chinese, asianfusion,</td>\n",
       "      <td>Chinese, Asian Fusion,</td>\n",
       "      <td>3.5</td>\n",
       "      <td>141</td>\n",
       "      <td>34.14254</td>\n",
       "      <td>-118.3944</td>\n",
       "      <td>91604</td>\n",
       "    </tr>\n",
       "  </tbody>\n",
       "</table>\n",
       "</div>"
      ],
      "text/plain": [
       "                           id          name         phone  \\\n",
       "17303  VWNrQxTv9yhRN1ScuJOneQ  Pick Up Stix  1.818752e+10   \n",
       "\n",
       "                                              address          category_alias  \\\n",
       "17303  3960 Laurel Canyon Blvd  Studio City, CA 91604  chinese, asianfusion,    \n",
       "\n",
       "                category_title  rating  review_count       lat       lon  \\\n",
       "17303  Chinese, Asian Fusion,      3.5           141  34.14254 -118.3944   \n",
       "\n",
       "      zipcodes  \n",
       "17303    91604  "
      ]
     },
     "execution_count": 178,
     "metadata": {},
     "output_type": "execute_result"
    }
   ],
   "source": [
    "aT=aT[aT.zipcodes.str.startswith('9')]\n",
    "aT.sample()"
   ]
  },
  {
   "cell_type": "code",
   "execution_count": null,
   "metadata": {},
   "outputs": [],
   "source": []
  },
  {
   "cell_type": "code",
   "execution_count": null,
   "metadata": {},
   "outputs": [],
   "source": []
  },
  {
   "cell_type": "code",
   "execution_count": 164,
   "metadata": {},
   "outputs": [],
   "source": [
    "aT=aT[aT[\"review_count\"]>=100]"
   ]
  },
  {
   "cell_type": "code",
   "execution_count": 186,
   "metadata": {
    "scrolled": true
   },
   "outputs": [
    {
     "data": {
      "image/png": "[encoded data removed]",
      "text/plain": [
       "<Figure size 432x288 with 1 Axes>"
      ]
     },
     "metadata": {
      "needs_background": "light"
     },
     "output_type": "display_data"
    }
   ],
   "source": [
    "x = aT[\"review_count\"]\n",
    "y = aT[\"rating\"]\n",
    "z = aT.zipcodes.astype(int)\n",
    "# z=z*z\n",
    "# z=z.sum()\n",
    "\n",
    "# Change color with c and alpha. I map the color to the X axis value.\n",
    "plt.scatter(x, y, s=50, c=z, cmap=\"Pastel1\", alpha=0.4, edgecolors=\"grey\", linewidth=.5)\n",
    " \n",
    "# Add titles (main and on axis)\n",
    "plt.xlabel(\"Number of Reviews\")\n",
    "plt.ylabel(\"Average Rating\")\n",
    "plt.title(\"Restaurants by Rating and Review Count\")\n",
    " \n",
    "plt.show()"
   ]
  },
  {
   "cell_type": "code",
   "execution_count": 187,
   "metadata": {},
   "outputs": [
    {
     "data": {
      "text/html": [
       "<div>\n",
       "<style scoped>\n",
       "    .dataframe tbody tr th:only-of-type {\n",
       "        vertical-align: middle;\n",
       "    }\n",
       "\n",
       "    .dataframe tbody tr th {\n",
       "        vertical-align: top;\n",
       "    }\n",
       "\n",
       "    .dataframe thead th {\n",
       "        text-align: right;\n",
       "    }\n",
       "</style>\n",
       "<table border=\"1\" class=\"dataframe\">\n",
       "  <thead>\n",
       "    <tr style=\"text-align: right;\">\n",
       "      <th></th>\n",
       "      <th>id</th>\n",
       "      <th>name</th>\n",
       "      <th>phone</th>\n",
       "      <th>address</th>\n",
       "      <th>category_alias</th>\n",
       "      <th>category_title</th>\n",
       "      <th>rating</th>\n",
       "      <th>review_count</th>\n",
       "      <th>lat</th>\n",
       "      <th>lon</th>\n",
       "      <th>zipcodes</th>\n",
       "    </tr>\n",
       "  </thead>\n",
       "  <tbody>\n",
       "    <tr>\n",
       "      <th>15773</th>\n",
       "      <td>TkFEKhsCixPWlShULKvMdQ</td>\n",
       "      <td>Bottega Louie</td>\n",
       "      <td>1.213802e+10</td>\n",
       "      <td>700 S Grand Ave  Los Angeles, CA 90017</td>\n",
       "      <td>italian, bakeries, breakfast_brunch,</td>\n",
       "      <td>Italian, Bakeries, Breakfast &amp; Brunch,</td>\n",
       "      <td>4.0</td>\n",
       "      <td>16955</td>\n",
       "      <td>34.04693</td>\n",
       "      <td>-118.256601</td>\n",
       "      <td>90017</td>\n",
       "    </tr>\n",
       "  </tbody>\n",
       "</table>\n",
       "</div>"
      ],
      "text/plain": [
       "                           id           name         phone  \\\n",
       "15773  TkFEKhsCixPWlShULKvMdQ  Bottega Louie  1.213802e+10   \n",
       "\n",
       "                                      address  \\\n",
       "15773  700 S Grand Ave  Los Angeles, CA 90017   \n",
       "\n",
       "                              category_alias  \\\n",
       "15773  italian, bakeries, breakfast_brunch,    \n",
       "\n",
       "                                category_title  rating  review_count  \\\n",
       "15773  Italian, Bakeries, Breakfast & Brunch,      4.0         16955   \n",
       "\n",
       "            lat         lon zipcodes  \n",
       "15773  34.04693 -118.256601    90017  "
      ]
     },
     "execution_count": 187,
     "metadata": {},
     "output_type": "execute_result"
    }
   ],
   "source": [
    "aT[aT[\"review_count\"]>=15000]"
   ]
  },
  {
   "cell_type": "code",
   "execution_count": 189,
   "metadata": {},
   "outputs": [
    {
     "data": {
      "text/plain": [
       "phone           1.229742e+10\n",
       "rating          3.707602e+00\n",
       "review_count    3.641170e+02\n",
       "lat             3.405048e+01\n",
       "lon            -1.182624e+02\n",
       "zipcodes                 inf\n",
       "dtype: float64"
      ]
     },
     "execution_count": 189,
     "metadata": {},
     "output_type": "execute_result"
    }
   ],
   "source": [
    "aT[aT[\"zipcodes\"]=='90017'].mean()"
   ]
  },
  {
   "cell_type": "code",
   "execution_count": 191,
   "metadata": {},
   "outputs": [
    {
     "data": {
      "text/html": [
       "<div>\n",
       "<style scoped>\n",
       "    .dataframe tbody tr th:only-of-type {\n",
       "        vertical-align: middle;\n",
       "    }\n",
       "\n",
       "    .dataframe tbody tr th {\n",
       "        vertical-align: top;\n",
       "    }\n",
       "\n",
       "    .dataframe thead th {\n",
       "        text-align: right;\n",
       "    }\n",
       "</style>\n",
       "<table border=\"1\" class=\"dataframe\">\n",
       "  <thead>\n",
       "    <tr style=\"text-align: right;\">\n",
       "      <th></th>\n",
       "      <th>phone</th>\n",
       "      <th>rating</th>\n",
       "      <th>review_count</th>\n",
       "      <th>lat</th>\n",
       "      <th>lon</th>\n",
       "    </tr>\n",
       "  </thead>\n",
       "  <tbody>\n",
       "    <tr>\n",
       "      <th>count</th>\n",
       "      <td>1.875800e+04</td>\n",
       "      <td>19980.000000</td>\n",
       "      <td>19980.000000</td>\n",
       "      <td>19980.000000</td>\n",
       "      <td>19980.000000</td>\n",
       "    </tr>\n",
       "    <tr>\n",
       "      <th>mean</th>\n",
       "      <td>1.449677e+10</td>\n",
       "      <td>3.694144</td>\n",
       "      <td>286.195295</td>\n",
       "      <td>33.978676</td>\n",
       "      <td>-118.253281</td>\n",
       "    </tr>\n",
       "    <tr>\n",
       "      <th>std</th>\n",
       "      <td>1.930745e+09</td>\n",
       "      <td>0.838203</td>\n",
       "      <td>497.982806</td>\n",
       "      <td>0.120067</td>\n",
       "      <td>0.169007</td>\n",
       "    </tr>\n",
       "    <tr>\n",
       "      <th>min</th>\n",
       "      <td>1.201844e+10</td>\n",
       "      <td>0.000000</td>\n",
       "      <td>0.000000</td>\n",
       "      <td>33.167953</td>\n",
       "      <td>-122.636364</td>\n",
       "    </tr>\n",
       "    <tr>\n",
       "      <th>25%</th>\n",
       "      <td>1.310559e+10</td>\n",
       "      <td>3.500000</td>\n",
       "      <td>31.000000</td>\n",
       "      <td>33.885953</td>\n",
       "      <td>-118.360725</td>\n",
       "    </tr>\n",
       "    <tr>\n",
       "      <th>50%</th>\n",
       "      <td>1.323735e+10</td>\n",
       "      <td>4.000000</td>\n",
       "      <td>119.000000</td>\n",
       "      <td>34.005714</td>\n",
       "      <td>-118.264616</td>\n",
       "    </tr>\n",
       "    <tr>\n",
       "      <th>75%</th>\n",
       "      <td>1.562937e+10</td>\n",
       "      <td>4.500000</td>\n",
       "      <td>341.250000</td>\n",
       "      <td>34.062453</td>\n",
       "      <td>-118.146361</td>\n",
       "    </tr>\n",
       "    <tr>\n",
       "      <th>max</th>\n",
       "      <td>1.951897e+10</td>\n",
       "      <td>5.000000</td>\n",
       "      <td>16955.000000</td>\n",
       "      <td>37.895588</td>\n",
       "      <td>-117.225868</td>\n",
       "    </tr>\n",
       "  </tbody>\n",
       "</table>\n",
       "</div>"
      ],
      "text/plain": [
       "              phone        rating  review_count           lat           lon\n",
       "count  1.875800e+04  19980.000000  19980.000000  19980.000000  19980.000000\n",
       "mean   1.449677e+10      3.694144    286.195295     33.978676   -118.253281\n",
       "std    1.930745e+09      0.838203    497.982806      0.120067      0.169007\n",
       "min    1.201844e+10      0.000000      0.000000     33.167953   -122.636364\n",
       "25%    1.310559e+10      3.500000     31.000000     33.885953   -118.360725\n",
       "50%    1.323735e+10      4.000000    119.000000     34.005714   -118.264616\n",
       "75%    1.562937e+10      4.500000    341.250000     34.062453   -118.146361\n",
       "max    1.951897e+10      5.000000  16955.000000     37.895588   -117.225868"
      ]
     },
     "execution_count": 191,
     "metadata": {},
     "output_type": "execute_result"
    }
   ],
   "source": [
    "aT.describe()"
   ]
  },
  {
   "cell_type": "code",
   "execution_count": 241,
   "metadata": {
    "scrolled": true
   },
   "outputs": [
    {
     "data": {
      "text/html": [
       "<div>\n",
       "<style scoped>\n",
       "    .dataframe tbody tr th:only-of-type {\n",
       "        vertical-align: middle;\n",
       "    }\n",
       "\n",
       "    .dataframe tbody tr th {\n",
       "        vertical-align: top;\n",
       "    }\n",
       "\n",
       "    .dataframe thead th {\n",
       "        text-align: right;\n",
       "    }\n",
       "</style>\n",
       "<table border=\"1\" class=\"dataframe\">\n",
       "  <thead>\n",
       "    <tr style=\"text-align: right;\">\n",
       "      <th></th>\n",
       "      <th>id</th>\n",
       "      <th>name</th>\n",
       "      <th>phone</th>\n",
       "      <th>address</th>\n",
       "      <th>category_alias</th>\n",
       "      <th>category_title</th>\n",
       "      <th>rating</th>\n",
       "      <th>review_count</th>\n",
       "      <th>lat</th>\n",
       "      <th>lon</th>\n",
       "      <th>zipcodes</th>\n",
       "    </tr>\n",
       "  </thead>\n",
       "  <tbody>\n",
       "    <tr>\n",
       "      <th>8855</th>\n",
       "      <td>ILuXurLzw4N30I_RbPON2A</td>\n",
       "      <td>Buffalo Wild Wings</td>\n",
       "      <td>1.310437e+10</td>\n",
       "      <td>736 East Del Amo Blvd  Carson, CA 90746</td>\n",
       "      <td>chicken_wings, sportsbars, tradamerican,</td>\n",
       "      <td>Chicken Wings, Sports Bars, American (Traditio...</td>\n",
       "      <td>1.5</td>\n",
       "      <td>1032</td>\n",
       "      <td>33.847007</td>\n",
       "      <td>-118.262301</td>\n",
       "      <td>90746</td>\n",
       "    </tr>\n",
       "  </tbody>\n",
       "</table>\n",
       "</div>"
      ],
      "text/plain": [
       "                          id                name         phone  \\\n",
       "8855  ILuXurLzw4N30I_RbPON2A  Buffalo Wild Wings  1.310437e+10   \n",
       "\n",
       "                                      address  \\\n",
       "8855  736 East Del Amo Blvd  Carson, CA 90746   \n",
       "\n",
       "                                 category_alias  \\\n",
       "8855  chicken_wings, sportsbars, tradamerican,    \n",
       "\n",
       "                                         category_title  rating  review_count  \\\n",
       "8855  Chicken Wings, Sports Bars, American (Traditio...     1.5          1032   \n",
       "\n",
       "            lat         lon zipcodes  \n",
       "8855  33.847007 -118.262301    90746  "
      ]
     },
     "execution_count": 241,
     "metadata": {},
     "output_type": "execute_result"
    }
   ],
   "source": [
    "badR=aT[(aT[\"review_count\"]>=500) & (aT[\"rating\"]== 1.5)]"
   ]
  },
  {
   "cell_type": "code",
   "execution_count": null,
   "metadata": {},
   "outputs": [],
   "source": []
  },
  {
   "cell_type": "code",
   "execution_count": null,
   "metadata": {},
   "outputs": [],
   "source": []
  },
  {
   "cell_type": "code",
   "execution_count": null,
   "metadata": {},
   "outputs": [],
   "source": []
  },
  {
   "cell_type": "code",
   "execution_count": null,
   "metadata": {},
   "outputs": [],
   "source": []
  },
  {
   "cell_type": "code",
   "execution_count": null,
   "metadata": {},
   "outputs": [],
   "source": []
  },
  {
   "cell_type": "code",
   "execution_count": 252,
   "metadata": {},
   "outputs": [],
   "source": [
    "bestR=aT[(aT[\"review_count\"]>=300) & (aT[\"rating\"]== 5)]"
   ]
  },
  {
   "cell_type": "code",
   "execution_count": 253,
   "metadata": {},
   "outputs": [],
   "source": [
    "mapdf=aT[(aT[\"zipcodes\"]=='90017') & (aT[\"rating\"]>= 3.5)]\n"
   ]
  },
  {
   "cell_type": "code",
   "execution_count": 254,
   "metadata": {},
   "outputs": [],
   "source": [
    "lat=list(mapdf['lat'])\n",
    "lon=list(mapdf['lon'])"
   ]
  },
  {
   "cell_type": "code",
   "execution_count": 255,
   "metadata": {},
   "outputs": [],
   "source": [
    "# coordinates = [\n",
    "#     (40.71, -74.00),]"
   ]
  },
  {
   "cell_type": "code",
   "execution_count": 256,
   "metadata": {},
   "outputs": [
    {
     "data": {
      "text/plain": [
       "<zip at 0x102aea5280>"
      ]
     },
     "execution_count": 256,
     "metadata": {},
     "output_type": "execute_result"
    }
   ],
   "source": [
    "zip(lat, lon)"
   ]
  },
  {
   "cell_type": "code",
   "execution_count": 257,
   "metadata": {},
   "outputs": [],
   "source": [
    "coordinates = [x for x in zip(lat, lon)]"
   ]
  },
  {
   "cell_type": "code",
   "execution_count": 258,
   "metadata": {},
   "outputs": [],
   "source": [
    "# # Customize the size of the figure\n",
    "# figure_layout = {\n",
    "#     'width': '400px',\n",
    "#     'height': '300px',\n",
    "#     'border': '1px solid black',\n",
    "#     'padding': '1px',\n",
    "#     'margin': '0 auto 0 auto'\n",
    "# }\n",
    "# fig = gmaps.figure(layout=figure_layout)"
   ]
  },
  {
   "cell_type": "code",
   "execution_count": 260,
   "metadata": {
    "scrolled": false
   },
   "outputs": [
    {
     "data": {
      "application/vnd.jupyter.widget-view+json": {
       "model_id": "9563c3bfe87d4321b9ae3d1cfc3ba387",
       "version_major": 2,
       "version_minor": 0
      },
      "text/plain": [
       "Figure(layout=FigureLayout(border='1px solid black', height='300px', margin='0 auto 0 auto', padding='1px', wi…"
      ]
     },
     "metadata": {},
     "output_type": "display_data"
    }
   ],
   "source": [
    "# Customize the size of the figure\n",
    "figure_layout = {\n",
    "    'width': '400px',\n",
    "    'height': '300px',\n",
    "    'border': '1px solid black',\n",
    "    'padding': '1px',\n",
    "    'margin': '0 auto 0 auto'\n",
    "}\n",
    "fig = gmaps.figure(layout=figure_layout)\n",
    "# Assign the marker layer to a variable\n",
    "# markers = gmaps.marker_layer(coordinates)\n",
    "heat_layer = gmaps.heatmap_layer(coordinates, weights=mapdf['rating']-3.5, \n",
    "                                 dissipating=False, max_intensity=1.5,\n",
    "                                 point_radius = .0008)\n",
    "# Add the layer to the map\n",
    "fig.add_layer(heat_layer)\n",
    "fig"
   ]
  },
  {
   "cell_type": "code",
   "execution_count": null,
   "metadata": {},
   "outputs": [],
   "source": []
  },
  {
   "cell_type": "code",
   "execution_count": null,
   "metadata": {},
   "outputs": [],
   "source": [
    "# Create a poverty Heatmap layer\n",
    "fig = gmaps.figure()\n",
    "\n",
    "heat_layer = gmaps.heatmap_layer(locations, weights=poverty_rate, \n",
    "                                 dissipating=False, max_intensity=100,\n",
    "                                 point_radius = 1)\n",
    "\n",
    "fig.add_layer(heat_layer)\n",
    "\n",
    "fig"
   ]
  },
  {
   "cell_type": "code",
   "execution_count": null,
   "metadata": {},
   "outputs": [],
   "source": []
  },
  {
   "cell_type": "code",
   "execution_count": null,
   "metadata": {},
   "outputs": [],
   "source": []
  }
 ],
 "metadata": {
  "kernelspec": {
   "display_name": "Python 3",
   "language": "python",
   "name": "python3"
  },
  "language_info": {
   "codemirror_mode": {
    "name": "ipython",
    "version": 3
   },
   "file_extension": ".py",
   "mimetype": "text/x-python",
   "name": "python",
   "nbconvert_exporter": "python",
   "pygments_lexer": "ipython3",
   "version": "3.7.4"
  }
 },
 "nbformat": 4,
 "nbformat_minor": 4
}
