{
 "cells": [
  {
   "cell_type": "code",
   "execution_count": 4,
   "metadata": {},
   "outputs": [],
   "source": [
    "import pandas as pd\n",
    "import numpy as np\n",
    "import matplotlib\n",
    "import matplotlib.pyplot as plt\n",
    "import scipy.stats as sts\n",
    "import seaborn as sns\n",
    "from matplotlib.pyplot import figure\n",
    "import config\n",
    "from config import cskey\n"
   ]
  },
  {
   "cell_type": "code",
   "execution_count": 5,
   "metadata": {},
   "outputs": [],
   "source": [
    "import cufflinks as cf\n",
    "import plotly\n",
    "import plotly.offline as py\n",
    "import plotly.graph_objs as go\n",
    "import chart_studio\n",
    "chart_studio.tools.set_credentials_file(username='sheri.rosalia', api_key=cskey)\n",
    "from plotly.offline import plot\n",
    "chart_studio.plotly\n",
    "from plotly.offline import iplot\n"
   ]
  },
  {
   "cell_type": "code",
   "execution_count": 6,
   "metadata": {},
   "outputs": [],
   "source": [
    "import gmaps\n",
    "from config import gkey\n",
    "\n",
    "\n",
    "# Access maps with unique API key\n",
    "gmaps.configure(api_key=gkey)\n"
   ]
  },
  {
   "cell_type": "code",
   "execution_count": null,
   "metadata": {},
   "outputs": [],
   "source": [
    "# Set max rows displayed in output to 25\n",
    "pd.set_option(\"display.max_rows\", None)"
   ]
  },
  {
   "cell_type": "code",
   "execution_count": null,
   "metadata": {},
   "outputs": [],
   "source": [
    "df=pd.read_csv('la_rest_clean_columns.csv', index_col=False)\n",
    "df.sample()"
   ]
  },
  {
   "cell_type": "code",
   "execution_count": null,
   "metadata": {
    "scrolled": true
   },
   "outputs": [],
   "source": [
    "\n",
    "dd=df\n"
   ]
  },
  {
   "cell_type": "code",
   "execution_count": null,
   "metadata": {},
   "outputs": [],
   "source": [
    "zipdict = {}\n",
    "\n",
    "zips=[]\n",
    "total_counts = 0\n",
    "total_count_per_zip=0\n",
    "zipcode_count = 0\n",
    "unique_zip_count=0\n",
    "\n",
    "for x in dd['zipcodes']:\n",
    "    \n",
    "    total_counts = total_counts +1\n",
    "    \n",
    "    if x not in zips:\n",
    "        zips.append(x)\n",
    "        zipdict[x] = 0\n",
    "    zipdict[x] = zipdict[x] +1 \n",
    "    \n",
    "\n",
    "    \n",
    "# print(zipdict)  \n",
    "\n",
    "\n",
    "# print(unique_zip_count)\n",
    "# print(total_counts)\n",
    "# print(total_count_per_zip)\n"
   ]
  },
  {
   "cell_type": "code",
   "execution_count": null,
   "metadata": {},
   "outputs": [],
   "source": [
    "pd.DataFrame([zipdict])"
   ]
  },
  {
   "cell_type": "code",
   "execution_count": null,
   "metadata": {},
   "outputs": [],
   "source": [
    "\n",
    "zip_series=pd.Series(zipdict).to_frame(name=\"zipcount\")\n",
    "zip_series"
   ]
  },
  {
   "cell_type": "code",
   "execution_count": null,
   "metadata": {},
   "outputs": [],
   "source": [
    "zip_series.plot(kind='line',)"
   ]
  },
  {
   "cell_type": "code",
   "execution_count": null,
   "metadata": {},
   "outputs": [],
   "source": [
    "zip_series.describe()"
   ]
  },
  {
   "cell_type": "code",
   "execution_count": null,
   "metadata": {},
   "outputs": [],
   "source": [
    "# change series to df later\n",
    "# s = pd.Series([\"a\", \"b\", \"c\"],\n",
    "#               name=\"vals\")aa\n",
    "# s.to_frame()"
   ]
  },
  {
   "cell_type": "code",
   "execution_count": null,
   "metadata": {},
   "outputs": [],
   "source": [
    "dd.sample()"
   ]
  },
  {
   "cell_type": "code",
   "execution_count": null,
   "metadata": {},
   "outputs": [],
   "source": []
  },
  {
   "cell_type": "code",
   "execution_count": null,
   "metadata": {},
   "outputs": [],
   "source": [
    "cuisinedict = {}\n",
    "\n",
    "cuisines=[]\n",
    "cuisine_counts = 0\n",
    "total_count_per_zip=0\n",
    "cuis_count = 0\n",
    "unique_zip_count=0\n",
    "\n",
    "for c in dd['tit1']:\n",
    "    \n",
    "    cuisine_counts = cuisine_counts +1\n",
    "    \n",
    "    if c not in cuisines:\n",
    "        cuisines.append(c)\n",
    "        cuisinedict[c] = 0\n",
    "    cuisinedict[c] = cuisinedict[c] +1 \n",
    "    \n",
    "\n",
    "    \n",
    "# print(cuisinedict)  \n",
    "\n",
    "\n",
    "# print(unique_zip_count)\n",
    "# print(total_counts)\n",
    "# print(total_count_per_zip)"
   ]
  },
  {
   "cell_type": "code",
   "execution_count": null,
   "metadata": {},
   "outputs": [],
   "source": []
  },
  {
   "cell_type": "code",
   "execution_count": null,
   "metadata": {},
   "outputs": [],
   "source": [
    "\n",
    "cuisine_series=pd.Series(cuisinedict).to_frame(name=\"cuisine count\")\n",
    "cuisine_series"
   ]
  },
  {
   "cell_type": "code",
   "execution_count": null,
   "metadata": {},
   "outputs": [],
   "source": [
    "# use inplace=True to get rid of range level_0\n",
    "cuisine_series.reset_index(drop=False,) "
   ]
  },
  {
   "cell_type": "code",
   "execution_count": null,
   "metadata": {},
   "outputs": [],
   "source": [
    "cuisine_series.describe()"
   ]
  },
  {
   "cell_type": "code",
   "execution_count": null,
   "metadata": {
    "scrolled": true
   },
   "outputs": [],
   "source": [
    "cuisine_series.plot()"
   ]
  },
  {
   "cell_type": "code",
   "execution_count": null,
   "metadata": {},
   "outputs": [],
   "source": [
    "cuisine_series.info()"
   ]
  },
  {
   "cell_type": "code",
   "execution_count": null,
   "metadata": {},
   "outputs": [],
   "source": [
    "size_bins=[0, 75, 200, 400, 600, 1000, 4000 ]"
   ]
  },
  {
   "cell_type": "code",
   "execution_count": null,
   "metadata": {},
   "outputs": [],
   "source": [
    "\n",
    "group_names = [\"Mini (<75)\", \"Low (75-200)\",\"Medium (200-400)\", \"Large (600-1000)\", \"XLarge (600-1000)\", \"Jumbo (1000-2000)\",]\n",
    "\n",
    "\n",
    "\n"
   ]
  },
  {
   "cell_type": "code",
   "execution_count": null,
   "metadata": {},
   "outputs": [],
   "source": []
  },
  {
   "cell_type": "code",
   "execution_count": null,
   "metadata": {},
   "outputs": [],
   "source": [
    "# Categorize counts bins.\n",
    "cuisine_series['cuisine bins'] = pd.cut(cuisine_series['cuisine count'], size_bins, labels=group_names)\n",
    "\n",
    "cuisine_series.head()"
   ]
  },
  {
   "cell_type": "code",
   "execution_count": null,
   "metadata": {},
   "outputs": [],
   "source": [
    "cuisine_series.plot(kind='scatter', x='cuisine bins', y='cuisine count')"
   ]
  },
  {
   "cell_type": "code",
   "execution_count": null,
   "metadata": {},
   "outputs": [],
   "source": [
    "cuisine_series.reset_index(drop=False, inplace=True) "
   ]
  },
  {
   "cell_type": "code",
   "execution_count": null,
   "metadata": {},
   "outputs": [],
   "source": [
    "cuisine_series.columns.to_list()"
   ]
  },
  {
   "cell_type": "code",
   "execution_count": null,
   "metadata": {},
   "outputs": [],
   "source": [
    "cuisine_series['type']=cuisine_series['index']"
   ]
  },
  {
   "cell_type": "code",
   "execution_count": null,
   "metadata": {},
   "outputs": [],
   "source": [
    "cuisine_series.columns.to_list()"
   ]
  },
  {
   "cell_type": "code",
   "execution_count": null,
   "metadata": {},
   "outputs": [],
   "source": [
    "cuisine_series.head()"
   ]
  },
  {
   "cell_type": "code",
   "execution_count": null,
   "metadata": {},
   "outputs": [],
   "source": [
    "table = pd.pivot_table(cuisine_series, values='cuisine count', index=['cuisine bins', ],\n",
    "                    columns=['type'], aggfunc=np.sum)"
   ]
  },
  {
   "cell_type": "code",
   "execution_count": null,
   "metadata": {},
   "outputs": [],
   "source": [
    "pd.set_option(\"display.max_columns\", None)\n",
    "\n",
    "table"
   ]
  },
  {
   "cell_type": "code",
   "execution_count": null,
   "metadata": {},
   "outputs": [],
   "source": []
  },
  {
   "cell_type": "code",
   "execution_count": null,
   "metadata": {},
   "outputs": [],
   "source": [
    "#bin_averages\n",
    "ba=cuisine_series.groupby(['cuisine bins']).mean()['cuisine count'].map(\"{:.1f}\".format)\n",
    "ba"
   ]
  },
  {
   "cell_type": "code",
   "execution_count": null,
   "metadata": {
    "scrolled": true
   },
   "outputs": [],
   "source": [
    "#bin sums\n",
    "bs=cuisine_series.groupby(['cuisine bins']).sum()['cuisine count']\n",
    "bs"
   ]
  },
  {
   "cell_type": "code",
   "execution_count": null,
   "metadata": {},
   "outputs": [],
   "source": [
    "#bin median\n",
    "bd=cuisine_series.groupby(['cuisine bins']).median()['cuisine count']\n",
    "bd"
   ]
  },
  {
   "cell_type": "code",
   "execution_count": null,
   "metadata": {},
   "outputs": [],
   "source": [
    "#total count per bin\n",
    "tot=cuisine_series.groupby(['cuisine bins']).sum()\n",
    "tot"
   ]
  },
  {
   "cell_type": "code",
   "execution_count": null,
   "metadata": {},
   "outputs": [],
   "source": [
    "#cuisine type number count\n",
    "cnct=cuisine_series.groupby(['type']).sum()\n",
    "cnct\n"
   ]
  },
  {
   "cell_type": "code",
   "execution_count": null,
   "metadata": {},
   "outputs": [],
   "source": [
    "cnct.info()"
   ]
  },
  {
   "cell_type": "code",
   "execution_count": null,
   "metadata": {},
   "outputs": [],
   "source": [
    "cnct.columns.to_list()"
   ]
  },
  {
   "cell_type": "code",
   "execution_count": null,
   "metadata": {},
   "outputs": [],
   "source": [
    "tot.columns.to_list()\n",
    "tot.info()"
   ]
  },
  {
   "cell_type": "code",
   "execution_count": null,
   "metadata": {},
   "outputs": [],
   "source": [
    "cbin_df=cuisine_series"
   ]
  },
  {
   "cell_type": "code",
   "execution_count": null,
   "metadata": {},
   "outputs": [],
   "source": [
    "cbin.reset_index()"
   ]
  },
  {
   "cell_type": "code",
   "execution_count": null,
   "metadata": {},
   "outputs": [],
   "source": []
  },
  {
   "cell_type": "code",
   "execution_count": null,
   "metadata": {},
   "outputs": [],
   "source": [
    "#percentage\n",
    "ps=tot['cuisine count']/cnct['cuisine count']\n",
    "ps"
   ]
  },
  {
   "cell_type": "code",
   "execution_count": null,
   "metadata": {},
   "outputs": [],
   "source": [
    "summary=pd.DataFrame({\n",
    "    'Average # of Restaurants': ba, \n",
    "    'Median # of Restaurants': bd,\n",
    "    'Sum # of Restaurants': bs,\n",
    "    'Percentage # of Restaurants': ps,\n",
    "})"
   ]
  },
  {
   "cell_type": "code",
   "execution_count": null,
   "metadata": {},
   "outputs": [],
   "source": [
    "summary\n"
   ]
  },
  {
   "cell_type": "code",
   "execution_count": null,
   "metadata": {},
   "outputs": [],
   "source": []
  },
  {
   "cell_type": "code",
   "execution_count": null,
   "metadata": {},
   "outputs": [],
   "source": []
  },
  {
   "cell_type": "code",
   "execution_count": null,
   "metadata": {},
   "outputs": [],
   "source": [
    "# cca=cuisine_count median\n",
    "ccd=cuisine_series['cuisine count'].median()\n",
    "ccd"
   ]
  },
  {
   "cell_type": "code",
   "execution_count": null,
   "metadata": {
    "scrolled": false
   },
   "outputs": [],
   "source": [
    "#ccs=sum\n",
    "ccs=cuisine_series['cuisine count'].sum()\n",
    "ccs"
   ]
  },
  {
   "cell_type": "code",
   "execution_count": null,
   "metadata": {},
   "outputs": [],
   "source": [
    "#cca average\n",
    "cca=cuisine_series['cuisine count'].mean()\n",
    "cca"
   ]
  },
  {
   "cell_type": "code",
   "execution_count": null,
   "metadata": {},
   "outputs": [],
   "source": [
    "dd=df\n",
    "zips=dd[['zipcodes', 'id', 'tit1', 'rating', 'review_count']]\n",
    "zips=zips.groupby(['zipcodes']).median().sort_values('review_count', ascending=False)\n",
    "zips.head()\n"
   ]
  },
  {
   "cell_type": "code",
   "execution_count": null,
   "metadata": {},
   "outputs": [],
   "source": [
    "# plot data\n",
    "fig, ax = plt.subplots(figsize=(15,9))\n",
    "# use unstack()\n",
    "dd.groupby(['zipcodes','tit1']).count()['review_count'].unstack().plot(ax=ax)"
   ]
  },
  {
   "cell_type": "code",
   "execution_count": null,
   "metadata": {},
   "outputs": [],
   "source": [
    "\n",
    "restzip=dd[[ 'id', 'zipcodes','tit2', 'rating', 'review_count']]\n",
    "restzip=zips.groupby(['zipcodes']).median().sort_values('review_count', ascending=False)\n",
    "restzip.head()\n"
   ]
  },
  {
   "cell_type": "code",
   "execution_count": null,
   "metadata": {},
   "outputs": [],
   "source": [
    "restzip.columns.to_list()\n",
    "    "
   ]
  },
  {
   "cell_type": "code",
   "execution_count": null,
   "metadata": {},
   "outputs": [],
   "source": []
  },
  {
   "cell_type": "code",
   "execution_count": null,
   "metadata": {},
   "outputs": [],
   "source": [
    "# Get the number of rides for urban cities.\n",
    "zipcount = dd.groupby([\"zipcodes\"]).count()[\"id\"]\n",
    "zipcount.head()"
   ]
  },
  {
   "cell_type": "code",
   "execution_count": null,
   "metadata": {},
   "outputs": [],
   "source": [
    "zips.reset_index(level='zipcodes')\n"
   ]
  },
  {
   "cell_type": "code",
   "execution_count": null,
   "metadata": {},
   "outputs": [],
   "source": [
    "import matplotlib.pyplot as plt\n",
    "%matplotlib inline\n",
    "plt.rcParams[\"figure.figsize\"] = [10, 8]"
   ]
  },
  {
   "cell_type": "code",
   "execution_count": null,
   "metadata": {},
   "outputs": [],
   "source": [
    "dd.sample()"
   ]
  },
  {
   "cell_type": "code",
   "execution_count": null,
   "metadata": {},
   "outputs": [],
   "source": [
    "ax2 = dd.plot.scatter(x='zipcodes',\n",
    "                      y='review_count',\n",
    "                      c='rating',\n",
    "                      colormap='viridis'\n",
    "                      )"
   ]
  },
  {
   "cell_type": "code",
   "execution_count": null,
   "metadata": {},
   "outputs": [],
   "source": [
    "# df.info()"
   ]
  },
  {
   "cell_type": "code",
   "execution_count": null,
   "metadata": {},
   "outputs": [],
   "source": [
    "# df['name'].value_counts()"
   ]
  },
  {
   "cell_type": "code",
   "execution_count": null,
   "metadata": {
    "scrolled": true
   },
   "outputs": [],
   "source": [
    "#convert to category types\n",
    "for col in ['id', 'name', 'address', 'tit1', 'zipcodes']:\n",
    "    df[col] = dd[col].astype('category')"
   ]
  },
  {
   "cell_type": "code",
   "execution_count": null,
   "metadata": {},
   "outputs": [],
   "source": [
    "dd.sample()"
   ]
  },
  {
   "cell_type": "code",
   "execution_count": null,
   "metadata": {},
   "outputs": [],
   "source": []
  },
  {
   "cell_type": "code",
   "execution_count": null,
   "metadata": {},
   "outputs": [],
   "source": [
    "# df.info()"
   ]
  },
  {
   "cell_type": "code",
   "execution_count": null,
   "metadata": {},
   "outputs": [],
   "source": [
    "# df.isnull()"
   ]
  },
  {
   "cell_type": "code",
   "execution_count": null,
   "metadata": {},
   "outputs": [],
   "source": [
    "# df.replace(' ', np.nan, inplace=True)"
   ]
  },
  {
   "cell_type": "code",
   "execution_count": null,
   "metadata": {},
   "outputs": [],
   "source": [
    "# df.isnull()"
   ]
  },
  {
   "cell_type": "code",
   "execution_count": null,
   "metadata": {},
   "outputs": [],
   "source": [
    "# df.dropna(inplace=True)"
   ]
  },
  {
   "cell_type": "code",
   "execution_count": null,
   "metadata": {},
   "outputs": [],
   "source": [
    "# df.reset_index(drop=True)\n",
    "# df.sample(2)"
   ]
  },
  {
   "cell_type": "code",
   "execution_count": null,
   "metadata": {},
   "outputs": [],
   "source": []
  },
  {
   "cell_type": "code",
   "execution_count": null,
   "metadata": {},
   "outputs": [],
   "source": []
  },
  {
   "cell_type": "code",
   "execution_count": null,
   "metadata": {},
   "outputs": [],
   "source": [
    "# df.isnull()"
   ]
  },
  {
   "cell_type": "code",
   "execution_count": null,
   "metadata": {},
   "outputs": [],
   "source": []
  },
  {
   "cell_type": "code",
   "execution_count": null,
   "metadata": {},
   "outputs": [],
   "source": [
    "#total number of restaurants by unique ids\n",
    "# rt_ct = rt['id'].nunique()\n",
    "# rt_ct"
   ]
  },
  {
   "cell_type": "code",
   "execution_count": null,
   "metadata": {},
   "outputs": [],
   "source": [
    "#how many types of food\n"
   ]
  },
  {
   "cell_type": "code",
   "execution_count": null,
   "metadata": {
    "scrolled": true
   },
   "outputs": [],
   "source": [
    "#list of types\n",
    "#how many types of food\n",
    "\n",
    "# rt_list = rt['tit1'].value_counts()\n",
    "# print(rt_list.to_string())"
   ]
  },
  {
   "cell_type": "code",
   "execution_count": null,
   "metadata": {},
   "outputs": [],
   "source": [
    "laZips=df[df.zipcodes.str.startswith('9')]\n",
    "laZips.sample()\n",
    "laZips.to_csv('LA_Rest_2_food_types.csv', index=False)"
   ]
  },
  {
   "cell_type": "code",
   "execution_count": null,
   "metadata": {},
   "outputs": [],
   "source": []
  },
  {
   "cell_type": "code",
   "execution_count": null,
   "metadata": {},
   "outputs": [],
   "source": [
    "# mapdf=aT[(aT[\"zipcodes\"]=='90017') & (aT[\"rating\"]>= 3.5)]\n",
    "# mapdf.sample()"
   ]
  },
  {
   "cell_type": "code",
   "execution_count": null,
   "metadata": {},
   "outputs": [],
   "source": []
  },
  {
   "cell_type": "code",
   "execution_count": null,
   "metadata": {
    "scrolled": true
   },
   "outputs": [],
   "source": [
    "\n",
    "unique_types = df[\"tit1\"].unique()\n",
    "# unique_types.tolist()\n",
    "\n",
    "\n",
    "\n"
   ]
  },
  {
   "cell_type": "code",
   "execution_count": null,
   "metadata": {
    "scrolled": true
   },
   "outputs": [],
   "source": []
  },
  {
   "cell_type": "code",
   "execution_count": null,
   "metadata": {},
   "outputs": [],
   "source": [
    "# grouptype.index.tolist()"
   ]
  },
  {
   "cell_type": "code",
   "execution_count": null,
   "metadata": {},
   "outputs": [],
   "source": []
  },
  {
   "cell_type": "code",
   "execution_count": null,
   "metadata": {},
   "outputs": [],
   "source": [
    "# create data\n",
    "\n",
    "food_types=grouptype.index.tolist()\n",
    "\n",
    "labels = [f\"Restaurant name: {name}\" for name in food_types]\n",
    "\n",
    "x=grouptype.review_count,\n",
    "y=grouptype.zipcodes,\n",
    "z=grouptype.rating,\n",
    "# z=z*z\n",
    "z=z\n",
    "\n",
    "plt.figure(num=None, figsize=(8, 6), dpi=80, facecolor='w', edgecolor='k')\n",
    "# Change color with c and alpha. I map the color to the X axis value.\n",
    "plt.scatter(x, y, s=z, c=y, cmap=\"Reds\", alpha=0.4, edgecolors=\"grey\", linewidth=.25)\n",
    " \n",
    "# Add titles (main and on axis)\n",
    "plt.xlabel(\"Number of Restaurants Per Zipcode\")\n",
    "plt.ylabel(\"Average Rating\")\n",
    "plt.title(\"Restaurants by ZipCode, Rating and Review Count\")\n",
    " \n",
    "plt.show()"
   ]
  },
  {
   "cell_type": "code",
   "execution_count": null,
   "metadata": {},
   "outputs": [],
   "source": []
  },
  {
   "cell_type": "code",
   "execution_count": null,
   "metadata": {},
   "outputs": [],
   "source": []
  },
  {
   "cell_type": "code",
   "execution_count": null,
   "metadata": {},
   "outputs": [],
   "source": []
  },
  {
   "cell_type": "code",
   "execution_count": null,
   "metadata": {},
   "outputs": [],
   "source": [
    "tit2=df.sort_values([\"tit2\"], ascending=False)\n",
    "tit2.sample()"
   ]
  },
  {
   "cell_type": "code",
   "execution_count": null,
   "metadata": {},
   "outputs": [],
   "source": [
    "\n",
    "tit1 = df.drop(['lat', 'lon'], axis=1, inplace=True)\n"
   ]
  },
  {
   "cell_type": "code",
   "execution_count": null,
   "metadata": {},
   "outputs": [],
   "source": [
    "tit1=df.sort_values([\"tit1\"], ascending=False)"
   ]
  },
  {
   "cell_type": "code",
   "execution_count": null,
   "metadata": {},
   "outputs": [],
   "source": [
    "# df.sample()"
   ]
  },
  {
   "cell_type": "code",
   "execution_count": null,
   "metadata": {},
   "outputs": [],
   "source": [
    "# ax = tit1.plot.hist(bins=12, alpha=0.5) # or... ax = df.plot.hist(bins=25, stacked=True)"
   ]
  },
  {
   "cell_type": "code",
   "execution_count": null,
   "metadata": {},
   "outputs": [],
   "source": [
    "from pandas.plotting import scatter_matrix"
   ]
  },
  {
   "cell_type": "code",
   "execution_count": null,
   "metadata": {},
   "outputs": [],
   "source": []
  },
  {
   "cell_type": "code",
   "execution_count": null,
   "metadata": {},
   "outputs": [],
   "source": [
    "ax = tit1.plot.hist(bins=12, stacked=True)"
   ]
  },
  {
   "cell_type": "code",
   "execution_count": null,
   "metadata": {},
   "outputs": [],
   "source": [
    "zipcount=df.groupby([\"review_count\"])['zipcodes'].count()\n",
    "\n",
    "zipcount.head()"
   ]
  },
  {
   "cell_type": "code",
   "execution_count": null,
   "metadata": {},
   "outputs": [],
   "source": []
  },
  {
   "cell_type": "code",
   "execution_count": null,
   "metadata": {},
   "outputs": [],
   "source": [
    "zipcount=df.sort_values([\"zipcodes\"], ascending=False)\n",
    "zipcount.head()"
   ]
  },
  {
   "cell_type": "code",
   "execution_count": null,
   "metadata": {},
   "outputs": [],
   "source": [
    "\n",
    "res=df.groupby('rating').aggregate(['min', np.median, max])\n",
    "res.plot()\n",
    "\n",
    "\n"
   ]
  },
  {
   "cell_type": "code",
   "execution_count": null,
   "metadata": {},
   "outputs": [],
   "source": [
    "# types=df.tit1.value_counts()\n",
    "# toptypes=types.head(20)"
   ]
  },
  {
   "cell_type": "code",
   "execution_count": null,
   "metadata": {},
   "outputs": [],
   "source": [
    "\n",
    "types=df.iloc[df.groupby('tit1').tit1.transform('size').mul(-1).argsort(kind='mergesort')]\n",
    "\n"
   ]
  },
  {
   "cell_type": "code",
   "execution_count": null,
   "metadata": {},
   "outputs": [],
   "source": [
    "types.head()"
   ]
  },
  {
   "cell_type": "code",
   "execution_count": null,
   "metadata": {
    "scrolled": true
   },
   "outputs": [],
   "source": [
    "gb = types.groupby(['tit1']).mean()\n",
    "gb.head()"
   ]
  },
  {
   "cell_type": "code",
   "execution_count": null,
   "metadata": {},
   "outputs": [],
   "source": [
    "gb.plot.scatter(x='rating', y='review_count',)"
   ]
  },
  {
   "cell_type": "code",
   "execution_count": null,
   "metadata": {},
   "outputs": [],
   "source": [
    "scatter_matrix(gb, figsize=(10,10))"
   ]
  },
  {
   "cell_type": "code",
   "execution_count": null,
   "metadata": {},
   "outputs": [],
   "source": [
    "# %pip install mpld3\n",
    "import mpld3\n"
   ]
  },
  {
   "cell_type": "code",
   "execution_count": null,
   "metadata": {},
   "outputs": [],
   "source": [
    "for name in gb.index:\n",
    "    print(name)"
   ]
  },
  {
   "cell_type": "code",
   "execution_count": null,
   "metadata": {},
   "outputs": [],
   "source": [
    "food_types=gb.index.tolist()\n",
    "food_types"
   ]
  },
  {
   "cell_type": "code",
   "execution_count": null,
   "metadata": {},
   "outputs": [],
   "source": [
    "zip_count = df.groupby('zipcodes').size()\n",
    "zip_count"
   ]
  },
  {
   "cell_type": "code",
   "execution_count": null,
   "metadata": {},
   "outputs": [],
   "source": [
    "tit=df.groupby(['tit1',], as_index=False).sum()"
   ]
  },
  {
   "cell_type": "code",
   "execution_count": null,
   "metadata": {},
   "outputs": [],
   "source": [
    "tit.columns.to_list()"
   ]
  },
  {
   "cell_type": "code",
   "execution_count": null,
   "metadata": {},
   "outputs": [],
   "source": [
    "# rev_ov_100=tit[(tit[\"review_count\"]>=500) & (tit[\"rating\"]== 5)]\n"
   ]
  },
  {
   "cell_type": "code",
   "execution_count": null,
   "metadata": {},
   "outputs": [],
   "source": [
    "rev_cen=tit[(tit[\"review_count\"]>=500)]\n",
    "rev_cen"
   ]
  },
  {
   "cell_type": "code",
   "execution_count": null,
   "metadata": {},
   "outputs": [],
   "source": []
  },
  {
   "cell_type": "code",
   "execution_count": null,
   "metadata": {},
   "outputs": [],
   "source": [
    "figsize=10,10\n",
    "rev_cen.plot.scatter(x='tit1', y='rating', figsize=figsize)"
   ]
  },
  {
   "cell_type": "code",
   "execution_count": null,
   "metadata": {},
   "outputs": [],
   "source": [
    "\"\"\"Interactive scatter plot using MPLD3 with API inspired by seaborn.\"\"\"\n",
    "import mpld3\n",
    "import numpy as np\n",
    "import pandas\n",
    "import matplotlib\n",
    "import matplotlib.cm as cm\n",
    "import matplotlib.lines as mlines\n",
    "import matplotlib.pyplot as plt\n",
    "\n",
    "\n",
    "def scatterplot(data=None, x=None, y=None, cat=None, sizecat=None, labels=None,\n",
    "                cmap='Set1', alpha=0.5, figsize=(12, 10), markersize=100,\n",
    "                graybg=False):\n",
    "    \"\"\"Create scatter plot with labels as tooltips shown on mouse-over.\n",
    "    Input is a DataFrame, the other parameters are column names and tweaks.\n",
    "    :param x, y: column names which hold the x, y coordinates, or array-likes.\n",
    "    :param cat: (column name for) category labels of data points; each category\n",
    "        is drawn in a different color and appears in the legend.\n",
    "    :param sizecat: numeric data to display by adjusting the size of data\n",
    "        points.\n",
    "    :param labels: labels for individual data points shown as tooltips.\n",
    "    :param cmap: name of a matplotlib colormap.\n",
    "    :param alpha: level of transparency of data points.\n",
    "    :param figsize: size of plot (width, height).\n",
    "    :param markersize: if sizecat is not given, the default size of data\n",
    "        points.\n",
    "    :param graybg: use gray instead of white background.\n",
    "    :returns: a Figure.\n",
    "    Usage:\n",
    "    >>> scatterplot(df)  # use first two columns as x, y coordinates\n",
    "    >>> scatterplot(x=[...], y=[...])  # plot given array-likes\n",
    "    >>> scatterplot(df, x='col1', y='col1', ...)  # specify column names to use\n",
    "    >>> mpld3.display()  # display figure in e.g., notebook\n",
    "    \"\"\"\n",
    "    fig, ax = plt.subplots(\n",
    "        subplot_kw=dict(axisbg='#EEEEEE') if graybg else None,\n",
    "        figsize=figsize)\n",
    "    if data is None:\n",
    "        data = pandas.DataFrame({'x': x, 'y': y}, index=labels)\n",
    "        x, y = 'x', 'y'\n",
    "    elif x is None and y is None:\n",
    "        x, y = data.columns[~data.columns.isin([cat, sizecat, labels])][:2]\n",
    "    if isinstance(cat, str):\n",
    "        cat = data[cat]\n",
    "    if isinstance(sizecat, str):\n",
    "        sizecat = data[sizecat]\n",
    "    # labels for categories:\n",
    "    if cat is None:\n",
    "        cat = np.ones(len(data))\n",
    "        categorylabels = [1]\n",
    "    else:\n",
    "        categorylabels = cat.unique()\n",
    "    # labels for data points:\n",
    "    if labels is None:\n",
    "        labels = data.index\n",
    "    elif isinstance(labels, str):\n",
    "        labels = data[labels]\n",
    "    # colors for categories:\n",
    "    norm = matplotlib.colors.Normalize(vmin=0, vmax=len(categorylabels))\n",
    "    mappable = cm.ScalarMappable(norm, cmap)\n",
    "    mappable.set_array(range(len(categorylabels)))\n",
    "    colors = mappable.to_rgba(range(len(categorylabels)))\n",
    "\n",
    "    for a, c in zip(categorylabels, colors):\n",
    "        scatter = ax.scatter(\n",
    "                data[cat == a][x],\n",
    "                data[cat == a][y],\n",
    "                color=c,\n",
    "                s=markersize if sizecat is None\n",
    "                    else (5 * sizecat[cat == a] ** 2),\n",
    "                alpha=alpha,\n",
    "                label=a)\n",
    "        tooltip = mpld3.plugins.PointLabelTooltip(\n",
    "                scatter,\n",
    "                labels=[labels[n] for n in (cat == a).nonzero()[0]])\n",
    "        mpld3.plugins.connect(fig, tooltip)\n",
    "    # plt.title(cat)\n",
    "    ax.set_xlabel(x)\n",
    "    ax.set_ylabel(y)\n",
    "    # work around limitation of mpld3 wrt markers in legends\n",
    "    ax.legend(loc='best', framealpha=0, numpoints=1, handles=[\n",
    "            mlines.Line2D(range(1), range(1), color=\"white\", marker='o',\n",
    "                markerfacecolor=c, label=a)\n",
    "            for a, c in zip(categorylabels, colors)])\n",
    "    return fig"
   ]
  },
  {
   "cell_type": "code",
   "execution_count": null,
   "metadata": {},
   "outputs": [],
   "source": [
    "scatterplot(data=tit, x='rating', y='review_count', cat=None, sizecat=None, labels=None,\n",
    "                cmap='Set2', alpha=0.5, figsize=(12, 10), markersize=100,\n",
    "                graybg=False)"
   ]
  },
  {
   "cell_type": "code",
   "execution_count": null,
   "metadata": {},
   "outputs": [],
   "source": [
    "tacos=df[(df[\"review_count\"]>=100) & (df[\"tit1\"]== 'Tacos')]\n",
    "tacos.head()\n"
   ]
  },
  {
   "cell_type": "code",
   "execution_count": null,
   "metadata": {},
   "outputs": [],
   "source": [
    "\n",
    "lat=list(tacos['lat'])\n",
    "lon=list(tacos['lon'])\n",
    "\n",
    "zip(lat, lon)\n",
    "coordinates = [x for x in zip(lat, lon)]\n",
    "\n",
    "\n",
    "\n",
    "# Customize the size of the figure\n",
    "figure_layout = {\n",
    "    'width': '700px',\n",
    "    'height': '600px',\n",
    "    'border': '1px solid black',\n",
    "    'padding': '1px',\n",
    "    'margin': '0 auto 0 auto'\n",
    "}\n",
    "\n",
    "fig = gmaps.figure(layout=figure_layout)\n",
    "rest_name=tacos['name'].tolist()\n",
    "# Assign the marker layer to a variable\n",
    "info_box_content=[f\"Restaurant name: {name}\" for name in rest_name]\n",
    "markers = gmaps.marker_layer(coordinates, info_box_content=info_box_content )\n",
    "heat_layer = gmaps.heatmap_layer(coordinates,  weights=tacos['rating']+5,\n",
    "                                 dissipating=False, max_intensity=5,\n",
    "                                 point_radius = .018)\n",
    "# Add the layer to the map\n",
    "fig.add_layer(heat_layer)\n",
    "fig.add_layer(markers)\n",
    "fig\n",
    "\n"
   ]
  },
  {
   "cell_type": "code",
   "execution_count": null,
   "metadata": {},
   "outputs": [],
   "source": []
  },
  {
   "cell_type": "code",
   "execution_count": null,
   "metadata": {},
   "outputs": [],
   "source": []
  },
  {
   "cell_type": "code",
   "execution_count": null,
   "metadata": {},
   "outputs": [],
   "source": [
    "\n",
    "df1 = df.set_index(keys='tit1')\n",
    "s = df1.groupby(level=0)['review_count'].sum() \n",
    "dfg = df1.groupby(level=0).sum()\n",
    "dfg.sample()"
   ]
  },
  {
   "cell_type": "code",
   "execution_count": null,
   "metadata": {},
   "outputs": [],
   "source": []
  },
  {
   "cell_type": "code",
   "execution_count": null,
   "metadata": {},
   "outputs": [],
   "source": [
    "# top_rate['category_title'].value_counts()"
   ]
  },
  {
   "cell_type": "code",
   "execution_count": null,
   "metadata": {},
   "outputs": [],
   "source": [
    "##install chart studio an cufflinks\n",
    "\n",
    "# ! pip install chart_studio\n",
    "# ! pip install --user cufflinks"
   ]
  },
  {
   "cell_type": "code",
   "execution_count": null,
   "metadata": {},
   "outputs": [],
   "source": [
    "# ! pip install --user cufflinks"
   ]
  },
  {
   "cell_type": "code",
   "execution_count": null,
   "metadata": {
    "scrolled": true
   },
   "outputs": [],
   "source": [
    "# tit=df.groupby(['tit1',], as_index=False).sum()"
   ]
  },
  {
   "cell_type": "code",
   "execution_count": null,
   "metadata": {},
   "outputs": [],
   "source": [
    "# top_rate['category_title'].value_counts().iplot(kind='bar')"
   ]
  },
  {
   "cell_type": "code",
   "execution_count": null,
   "metadata": {},
   "outputs": [],
   "source": [
    "# top_rate.set_index('category_title', inplace=True)"
   ]
  },
  {
   "cell_type": "code",
   "execution_count": null,
   "metadata": {},
   "outputs": [],
   "source": [
    "# top_rate.groupby().value_counts()\n"
   ]
  },
  {
   "cell_type": "code",
   "execution_count": null,
   "metadata": {},
   "outputs": [],
   "source": [
    "# top_rate.drop(['Party Supplies', 'Cannabis Dispensaries', 'Vitamins & Supplements', 'Wine & Spirits', 'Wedding Planning'\n",
    "#               'Ice Cream & Frozen Yogurt', 'Acai Bowls', 'Personal Chefs', 'Do-It-Yourself Food', 'Cinema', 'Whiskey Bars', \n",
    "#                'Popcorn Shops', 'Pubs', 'Butcher'])\n",
    "\n"
   ]
  },
  {
   "cell_type": "code",
   "execution_count": null,
   "metadata": {},
   "outputs": [],
   "source": [
    "# top_rate.head()"
   ]
  },
  {
   "cell_type": "code",
   "execution_count": null,
   "metadata": {},
   "outputs": [],
   "source": [
    "#kinda working... need to fix\n",
    "# data  = go.Data([\n",
    "#             go.Bar(\n",
    "#               y = top_rate['id'],\n",
    "#               x = top_rate['category_title'].value_counts(),\n",
    "#               orientation='h'\n",
    "#         )])\n",
    "# layout = go.Layout(\n",
    "#         height = 1000,\n",
    "#         margin=go.Margin(l=20),\n",
    "#         title = \"Contributing Factors for Vehicle Collisions in 2015\"\n",
    "# )\n",
    "# fig  = go.Figure(data=data, layout=layout)\n",
    "# py.iplot(fig)\n"
   ]
  },
  {
   "cell_type": "code",
   "execution_count": null,
   "metadata": {
    "scrolled": false
   },
   "outputs": [],
   "source": [
    "# top_rate['category_title'].value_counts()"
   ]
  },
  {
   "cell_type": "code",
   "execution_count": null,
   "metadata": {},
   "outputs": [],
   "source": []
  },
  {
   "cell_type": "code",
   "execution_count": null,
   "metadata": {},
   "outputs": [],
   "source": []
  },
  {
   "cell_type": "code",
   "execution_count": null,
   "metadata": {},
   "outputs": [],
   "source": []
  },
  {
   "cell_type": "code",
   "execution_count": null,
   "metadata": {},
   "outputs": [],
   "source": []
  },
  {
   "cell_type": "code",
   "execution_count": null,
   "metadata": {},
   "outputs": [],
   "source": []
  },
  {
   "cell_type": "code",
   "execution_count": null,
   "metadata": {},
   "outputs": [],
   "source": []
  },
  {
   "cell_type": "code",
   "execution_count": null,
   "metadata": {},
   "outputs": [],
   "source": []
  },
  {
   "cell_type": "code",
   "execution_count": null,
   "metadata": {},
   "outputs": [],
   "source": [
    "persian=df[(df[\"rating\"]>= 1) & (df[\"tit1\"]== 'Persian'+\"/\"+'Iranian')]\n",
    "persian\n"
   ]
  },
  {
   "cell_type": "code",
   "execution_count": null,
   "metadata": {},
   "outputs": [],
   "source": []
  },
  {
   "cell_type": "code",
   "execution_count": null,
   "metadata": {
    "scrolled": false
   },
   "outputs": [],
   "source": [
    "lat=list(persian['lat'])\n",
    "lon=list(persian['lon'])\n",
    "\n",
    "zip(lat, lon)\n",
    "coordinates = [x for x in zip(lat, lon)]\n",
    "\n",
    "\n",
    "\n",
    "# Customize the size of the figure\n",
    "figure_layout = {\n",
    "    'width': '800px',\n",
    "    'height': '600px',\n",
    "    'border': '1px solid black',\n",
    "    'padding': '1px',\n",
    "    'margin': '0 auto 0 auto'\n",
    "}\n",
    "\n",
    "\n",
    "fig = gmaps.figure(layout=figure_layout)\n",
    "rest_name=persian['name'].tolist()\n",
    "rating=persian['rating'].tolist()\n",
    "# Assign the marker layer to a variable\n",
    "info_box_content=[f\"Restaurant name: {name}\" for name in rest_name]\n",
    "markers = gmaps.marker_layer(coordinates, info_box_content=info_box_content )\n",
    "heat_layer = gmaps.heatmap_layer(coordinates,  weights=persian['rating']+5,\n",
    "                                 dissipating=False, max_intensity=5,\n",
    "                                 point_radius = .018)\n",
    "# Add the layer to the map\n",
    "fig.add_layer(heat_layer)\n",
    "fig.add_layer(markers)\n",
    "fig"
   ]
  },
  {
   "cell_type": "code",
   "execution_count": null,
   "metadata": {},
   "outputs": [],
   "source": [
    "\n",
    "\n"
   ]
  },
  {
   "cell_type": "code",
   "execution_count": null,
   "metadata": {},
   "outputs": [],
   "source": [
    "# bestR=aT[(aT[\"review_count\"]>=500) & (aT[\"rating\"]== 5)]"
   ]
  },
  {
   "cell_type": "code",
   "execution_count": null,
   "metadata": {},
   "outputs": [],
   "source": [
    "# bestR=aT[(aT[\"review_count\"]>=500) & (aT[\"rating\"]== 5)]\n",
    "\n",
    "# lat=list(bestR['lat'])\n",
    "# lon=list(bestR['lon'])\n",
    "\n",
    "# zip(lat, lon)\n",
    "# coordinates = [x for x in zip(lat, lon)]\n",
    "\n",
    "\n",
    "\n",
    "# # Customize the size of the figure\n",
    "# figure_layout = {\n",
    "#     'width': '400px',\n",
    "#     'height': '300px',\n",
    "#     'border': '1px solid black',\n",
    "#     'padding': '1px',\n",
    "#     'margin': '0 auto 0 auto'\n",
    "# }\n",
    "\n",
    "# fig = gmaps.figure(layout=figure_layout)\n",
    "# rest_name=bestR['name'].tolist()\n",
    "# # Assign the marker layer to a variable\n",
    "# info_box_content=[f\"Restaurant name: {name}\" for name in rest_name]\n",
    "# markers = gmaps.marker_layer(coordinates, info_box_content=info_box_content )\n",
    "# heat_layer = gmaps.heatmap_layer(coordinates, weights=bestR['rating']-5, \n",
    "#                                  dissipating=False, max_intensity=5,\n",
    "#                                  point_radius = .018)\n",
    "# # Add the layer to the map\n",
    "# fig.add_layer(heat_layer)\n",
    "# fig.add_layer(markers)\n",
    "# fig"
   ]
  },
  {
   "cell_type": "code",
   "execution_count": null,
   "metadata": {},
   "outputs": [],
   "source": []
  },
  {
   "cell_type": "code",
   "execution_count": null,
   "metadata": {},
   "outputs": [],
   "source": []
  }
 ],
 "metadata": {
  "kernelspec": {
   "display_name": "Python 3",
   "language": "python",
   "name": "python3"
  },
  "language_info": {
   "codemirror_mode": {
    "name": "ipython",
    "version": 3
   },
   "file_extension": ".py",
   "mimetype": "text/x-python",
   "name": "python",
   "nbconvert_exporter": "python",
   "pygments_lexer": "ipython3",
   "version": "3.7.4"
  }
 },
 "nbformat": 4,
 "nbformat_minor": 4
}
