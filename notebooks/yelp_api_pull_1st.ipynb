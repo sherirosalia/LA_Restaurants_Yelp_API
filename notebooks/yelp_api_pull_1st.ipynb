{
 "cells": [
  {
   "cell_type": "markdown",
   "metadata": {},
   "source": [
    "### First notebook - api pull"
   ]
  },
  {
   "cell_type": "code",
   "execution_count": 1,
   "metadata": {
    "colab": {},
    "colab_type": "code",
    "id": "pk3EmVocLAsT"
   },
   "outputs": [],
   "source": [
    "import pandas as pd\n",
    "import requests\n",
    "import json\n",
    "from pprint import pprint\n",
    "import time\n",
    "from config import ykey"
   ]
  },
  {
   "cell_type": "code",
   "execution_count": null,
   "metadata": {
    "colab": {},
    "colab_type": "code",
    "id": "-6CR8uHaLAsY"
   },
   "outputs": [],
   "source": []
  },
  {
   "cell_type": "code",
   "execution_count": 0,
   "metadata": {
    "colab": {},
    "colab_type": "code",
    "id": "rxLcCSCkLAsb"
   },
   "outputs": [],
   "source": [
    "url = \"https://api.yelp.com/v3/businesses/search\""
   ]
  },
  {
   "cell_type": "code",
   "execution_count": 0,
   "metadata": {
    "colab": {},
    "colab_type": "code",
    "id": "h6t5BButLAse",
    "outputId": "b6c3def6-b4e0-4c50-bc4a-19a59b030826"
   },
   "outputs": [
    {
     "data": {
      "text/html": [
       "<div>\n",
       "<style scoped>\n",
       "    .dataframe tbody tr th:only-of-type {\n",
       "        vertical-align: middle;\n",
       "    }\n",
       "\n",
       "    .dataframe tbody tr th {\n",
       "        vertical-align: top;\n",
       "    }\n",
       "\n",
       "    .dataframe thead th {\n",
       "        text-align: right;\n",
       "    }\n",
       "</style>\n",
       "<table border=\"1\" class=\"dataframe\">\n",
       "  <thead>\n",
       "    <tr style=\"text-align: right;\">\n",
       "      <th></th>\n",
       "      <th>ZIP Code</th>\n",
       "    </tr>\n",
       "  </thead>\n",
       "  <tbody>\n",
       "    <tr>\n",
       "      <th>0</th>\n",
       "      <td>90001</td>\n",
       "    </tr>\n",
       "    <tr>\n",
       "      <th>1</th>\n",
       "      <td>90002</td>\n",
       "    </tr>\n",
       "    <tr>\n",
       "      <th>2</th>\n",
       "      <td>90003</td>\n",
       "    </tr>\n",
       "    <tr>\n",
       "      <th>3</th>\n",
       "      <td>90004</td>\n",
       "    </tr>\n",
       "    <tr>\n",
       "      <th>4</th>\n",
       "      <td>90005</td>\n",
       "    </tr>\n",
       "  </tbody>\n",
       "</table>\n",
       "</div>"
      ],
      "text/plain": [
       "   ZIP Code\n",
       "0     90001\n",
       "1     90002\n",
       "2     90003\n",
       "3     90004\n",
       "4     90005"
      ]
     },
     "execution_count": 49,
     "metadata": {
      "tags": []
     },
     "output_type": "execute_result"
    }
   ],
   "source": [
    "zip_codes=pd.read_csv('LA_Zips.csv')\n",
    "zip_codes.head()\n",
    "\n",
    "\n",
    "\n"
   ]
  },
  {
   "cell_type": "code",
   "execution_count": 0,
   "metadata": {
    "colab": {},
    "colab_type": "code",
    "id": "P7MOGQyOLAsi"
   },
   "outputs": [],
   "source": [
    "headers = {'Authorization': 'Bearer %s' % yelp_api_key,}"
   ]
  },
  {
   "cell_type": "code",
   "execution_count": 0,
   "metadata": {
    "colab": {},
    "colab_type": "code",
    "id": "Y4Q50C_rLAsm"
   },
   "outputs": [],
   "source": [
    "total_businesses = []\n",
    "\n",
    "for Z in zip_codes['ZIP Code']:\n",
    "    print(Z)\n",
    "    url_params = {'categories':'restaurants', 'location': Z, 'is_closed': 'False','offset': 0, 'limit': 50,}\n",
    "    response = requests.request('GET', url, headers=headers, params=url_params)\n",
    "\n",
    "    current_offset=0\n",
    "    current_limit=50\n",
    "    \n",
    "    total_response = response.json()['total']\n",
    "\n",
    "    while current_offset <= total_response:\n",
    "        print(current_offset)\n",
    "\n",
    "        url_params['offset']=current_offset\n",
    "        response = requests.request('GET', url, headers=headers, params=url_params)\n",
    "        if 'businesses' in response.json():\n",
    "            total_businesses += response.json()['businesses']\n",
    "            \n",
    "        current_offset += current_limit\n",
    "#         pprint(response.json())\n",
    "#     print(len(total_businesses))\n",
    "    "
   ]
  },
  {
   "cell_type": "code",
   "execution_count": 0,
   "metadata": {
    "colab": {},
    "colab_type": "code",
    "id": "eQ_VX4K7LAsq"
   },
   "outputs": [],
   "source": [
    "list = []\n",
    "\n",
    "for biz in total_businesses:\n",
    "    \n",
    "    id_ = biz['id']\n",
    "    name = biz['name']\n",
    "    phone = biz['phone']\n",
    "    addresses = biz['location']['display_address']\n",
    "    address = '  '.join(addresses)\n",
    "    \n",
    "    services = biz['categories']\n",
    "    \n",
    "    alias = ''\n",
    "    title = ''\n",
    "    \n",
    "    for service in services:\n",
    "        alias += service['alias'] + ', '\n",
    "        title += service['title'] + ', '\n",
    "        \n",
    "    # more verbose alternate\n",
    "    #for service in services\n",
    "#         a_alias = service['alias']\n",
    "#         alias += a_alias\n",
    "        \n",
    "    \n",
    "    rating = biz['rating']\n",
    "    review_count = biz['review_count']\n",
    "    lat = biz['coordinates']['latitude']\n",
    "    lon = biz['coordinates']['longitude']\n",
    "    \n",
    "    if lat is None:\n",
    "        continue\n",
    "    if lon is None:\n",
    "        continue\n",
    "\n",
    "    yelp_dict = {\n",
    "                    'id': id_,\n",
    "                    'name': name,\n",
    "                    'phone': phone,\n",
    "                    'address' : address,\n",
    "                    'category_alias': alias,\n",
    "                    'category_title': title,\n",
    "                    'rating' : rating,\n",
    "                    'review_count' : review_count,\n",
    "                    'lat': lat,\n",
    "                    'lon': lon,\n",
    "                        }\n",
    "\n",
    "\n",
    "\n",
    "    pprint(yelp_dict)\n",
    "\n",
    "    list.append(yelp_dict)\n",
    "#     print(biz['coordinates'])\n",
    "\n",
    "\n",
    "\n",
    "    \n",
    "#     print(name  + '  ' +  phone + '  ' + review_count  + '  ' + lat   + '  ' + lon    + '\\n' +\n",
    "#           '  ' +  address  + '  ' +  rating) "
   ]
  },
  {
   "cell_type": "code",
   "execution_count": 0,
   "metadata": {
    "colab": {},
    "colab_type": "code",
    "id": "jUxbkitXLAt4",
    "outputId": "677cb13d-ab6d-481b-9a6c-ce84ff4f67e1"
   },
   "outputs": [
    {
     "data": {
      "text/plain": [
       "139390"
      ]
     },
     "execution_count": 66,
     "metadata": {
      "tags": []
     },
     "output_type": "execute_result"
    }
   ],
   "source": [
    "len(total_businesses)"
   ]
  },
  {
   "cell_type": "code",
   "execution_count": 0,
   "metadata": {
    "colab": {},
    "colab_type": "code",
    "id": "G-QSj8WnLAt7",
    "outputId": "7e6ee000-089b-4ac3-8777-00e2342c6571"
   },
   "outputs": [
    {
     "data": {
      "text/plain": [
       "1000"
      ]
     },
     "execution_count": 60,
     "metadata": {
      "tags": []
     },
     "output_type": "execute_result"
    }
   ],
   "source": [
    "len(list)"
   ]
  },
  {
   "cell_type": "code",
   "execution_count": 0,
   "metadata": {
    "colab": {},
    "colab_type": "code",
    "id": "QJbVVskbLAt-",
    "scrolled": true
   },
   "outputs": [],
   "source": [
    "LA_Rest = pd.DataFrame(list)\n",
    "# LA_Rest.dropna(axis=0, how='any',)\n",
    "\n",
    "# LA_Rest.head()"
   ]
  },
  {
   "cell_type": "code",
   "execution_count": 0,
   "metadata": {
    "colab": {},
    "colab_type": "code",
    "id": "9BqdS9V8LAuD",
    "outputId": "e3cac05a-f965-4829-d82e-eaef80ab340b"
   },
   "outputs": [
    {
     "data": {
      "text/plain": [
       "1000"
      ]
     },
     "execution_count": 59,
     "metadata": {
      "tags": []
     },
     "output_type": "execute_result"
    }
   ],
   "source": [
    "len(LA_Rest)"
   ]
  },
  {
   "cell_type": "code",
   "execution_count": 0,
   "metadata": {
    "colab": {},
    "colab_type": "code",
    "id": "VhV0od-YLAuF"
   },
   "outputs": [],
   "source": [
    "# saving the dataframe \n",
    "LA_Rest.to_csv('../csv_files/LA_rest_yelp.csv') "
   ]
  },
  {
   "cell_type": "code",
   "execution_count": 0,
   "metadata": {
    "colab": {},
    "colab_type": "code",
    "id": "x_jIRG3tLAuK"
   },
   "outputs": [],
   "source": []
  }
 ],
 "metadata": {
  "colab": {
   "collapsed_sections": [],
   "name": "Copy of getting_yelp_data.ipynb",
   "provenance": []
  },
  "kernelspec": {
   "display_name": "Python 3",
   "language": "python",
   "name": "python3"
  },
  "language_info": {
   "codemirror_mode": {
    "name": "ipython",
    "version": 3
   },
   "file_extension": ".py",
   "mimetype": "text/x-python",
   "name": "python",
   "nbconvert_exporter": "python",
   "pygments_lexer": "ipython3",
   "version": "3.7.4"
  }
 },
 "nbformat": 4,
 "nbformat_minor": 1
}
